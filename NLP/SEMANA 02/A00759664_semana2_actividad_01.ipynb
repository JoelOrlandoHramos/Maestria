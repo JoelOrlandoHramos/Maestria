{
  "nbformat": 4,
  "nbformat_minor": 0,
  "metadata": {
    "colab": {
      "provenance": [],
      "collapsed_sections": [
        "759SG4TyfbUn",
        "Zj-h4drXD-X9",
        "BY6yifxscfrx",
        "k_ewoagic5jc",
        "70StdqAZa9E9"
      ],
      "include_colab_link": true
    },
    "kernelspec": {
      "name": "python3",
      "display_name": "Python 3"
    },
    "language_info": {
      "name": "python"
    }
  },
  "cells": [
    {
      "cell_type": "markdown",
      "metadata": {
        "id": "view-in-github",
        "colab_type": "text"
      },
      "source": [
        "<a href=\"https://colab.research.google.com/github/JoelOrlandoHramos/Maestria/blob/main/NLP/SEMANA%2002/A00759664_semana2_actividad_01.ipynb\" target=\"_parent\"><img src=\"https://colab.research.google.com/assets/colab-badge.svg\" alt=\"Open In Colab\"/></a>"
      ]
    },
    {
      "cell_type": "markdown",
      "source": [
        "#**Maestría en Inteligencia Artificial Aplicada**\n",
        "##**Curso: Procesamiento de Lenguaje Natural (NLP)**\n",
        "###Tecnológico de Monterrey\n",
        "###Prof Luis Eduardo Falcón Morales\n",
        "\n",
        "## **Adtividad de la Semana 02**\n",
        "###**Introducción al procesamiento de texto.**"
      ],
      "metadata": {
        "id": "759SG4TyfbUn"
      }
    },
    {
      "cell_type": "markdown",
      "source": [
        "En esta actividad deberás utilizar los datos del siguiente archivo que se encuentra en Canvas:\n",
        "\n",
        "MNA_NLP_semana_02_Actividad_datos.txt\n",
        "\n",
        "El archivo contiene comentarios en inglés sobre servicios de comida de la página de Yelp: https://www.yelp.com/ .\n",
        "\n",
        "Son mil comentarios y forman parte del conjunto de datos que se encuentra en el Machine Learning Repository de la UCI, llamado \"Sentiment Labelled Sentences\": https://archive.ics.uci.edu/ml/datasets/Sentiment+Labelled+Sentences#\n"
      ],
      "metadata": {
        "id": "6ue1YAKx3XDo"
      }
    },
    {
      "cell_type": "markdown",
      "source": [
        "#**Parte 1. Cargamos los datos.**   "
      ],
      "metadata": {
        "id": "Zj-h4drXD-X9"
      }
    },
    {
      "cell_type": "markdown",
      "source": [
        "Cargar los datos del archivo indicado y obtener una lista de longitud de 1000 strings/comentarios.\n",
        "\n",
        "Por el momento solamente requerimos las bibliotecas de Numpy y re, para el manejo de los arreglos y de las expresiones regulares en Python.\n",
        "\n",
        "En particular, no necesitarás en esta actividad la biblioteca de Pandas.\n",
        "\n",
        "###**NOTA: En esta actividad no debes importar nada más, con estas dos bibliotecas será *suficiente*.**"
      ],
      "metadata": {
        "id": "BY6yifxscfrx"
      }
    },
    {
      "cell_type": "code",
      "source": [
        "import numpy as np    # importamos Numpy para el manejo de los arreglos.\n",
        "import re             # importamos re para el manejo de las expresiones regulares."
      ],
      "metadata": {
        "id": "OJ26dAfhdFnf"
      },
      "execution_count": null,
      "outputs": []
    },
    {
      "cell_type": "code",
      "source": [
        "# Ejecuta las siguientes instrucciones para cargar la información del achivo dado:\n",
        "\n",
        "with open('MNA_NLP_semana_02_Actividad_datos.txt',        # EL ARCHIVO SE IMPORTO DE MANERA LOCAL EN EL SCRIPT\n",
        "          mode='r',     # abrimos el archivo en modo lectura.\n",
        "          ) as f:\n",
        "    docs = f.readlines()    # separamos cada comentario por líneas\n",
        "\n",
        "f.close()  # ya que tenemos la información en la variable docs, cerramos el archivo"
      ],
      "metadata": {
        "id": "QHUmJyjDdGNP"
      },
      "execution_count": null,
      "outputs": []
    },
    {
      "cell_type": "code",
      "source": [
        "type(docs) == list   # Verifica que tu variable \"docs\" es una lista"
      ],
      "metadata": {
        "id": "L6WzrSrodG-Y",
        "colab": {
          "base_uri": "https://localhost:8080/"
        },
        "outputId": "2651548d-acda-480d-8597-4c8675069f11"
      },
      "execution_count": null,
      "outputs": [
        {
          "output_type": "execute_result",
          "data": {
            "text/plain": [
              "True"
            ]
          },
          "metadata": {},
          "execution_count": 3
        }
      ]
    },
    {
      "cell_type": "code",
      "source": [
        "len(docs)==1000  # verifica que la longitud de \"docs\" es de mil comentarios."
      ],
      "metadata": {
        "id": "QIK1u9WS2FtS",
        "colab": {
          "base_uri": "https://localhost:8080/"
        },
        "outputId": "56df3d3a-0c33-4f57-cfc6-e6fd6eb91bf1"
      },
      "execution_count": null,
      "outputs": [
        {
          "output_type": "execute_result",
          "data": {
            "text/plain": [
              "True"
            ]
          },
          "metadata": {},
          "execution_count": 4
        }
      ]
    },
    {
      "cell_type": "code",
      "source": [
        "docs[0:10]     # observa algunos de los primeros comentarios"
      ],
      "metadata": {
        "id": "9AMLIfQvJqNZ",
        "colab": {
          "base_uri": "https://localhost:8080/"
        },
        "outputId": "f0b72355-2d8e-45fa-89ff-543df32cccb9"
      },
      "execution_count": null,
      "outputs": [
        {
          "output_type": "execute_result",
          "data": {
            "text/plain": [
              "['Wow... Loved this place.\\n',\n",
              " 'Crust is not good.\\n',\n",
              " 'Not tasty and the texture was just nasty.\\n',\n",
              " 'Stopped by during the late May bank holiday off Rick Steve recommendation and loved it.\\n',\n",
              " 'The selection on the menu was great and so were the prices.\\n',\n",
              " 'Now I am getting angry and I want my damn pho.\\n',\n",
              " \"Honeslty it didn't taste THAT fresh.)\\n\",\n",
              " 'The potatoes were like rubber and you could tell they had been made up ahead of time being kept under a warmer.\\n',\n",
              " 'The fries were great too.\\n',\n",
              " 'A great touch.\\n']"
            ]
          },
          "metadata": {},
          "execution_count": 5
        }
      ]
    },
    {
      "cell_type": "markdown",
      "source": [
        "#**Parte 2: sección de preguntas (regex).**   \n"
      ],
      "metadata": {
        "id": "k_ewoagic5jc"
      }
    },
    {
      "cell_type": "markdown",
      "source": [
        "##**Instrucciones:**\n",
        "\n",
        "###**A continuación deberás contestar cada una de las preguntas que te piden usando expresiones regulares (regex).**\n",
        "\n",
        "###**Por el momento no hay restricción en cuanto al número de líneas de código que agregues, pero trata de incluir las mínimas posibles.**"
      ],
      "metadata": {
        "id": "X-eMJa3DFCIV"
      }
    },
    {
      "cell_type": "markdown",
      "source": [
        "*   **Pregunta 1.**\n",
        "\n",
        "Busca y elimina todos los saltos de línea '\\n' que se encuentran al final de cada comentario.\n",
        "\n",
        "Una vez finalizado, imprime los primeros 10 comentarios del resultado obtenido.\n"
      ],
      "metadata": {
        "id": "78nJMemzn5a5"
      }
    },
    {
      "cell_type": "code",
      "source": [
        "docs1=[]\n",
        "for n in docs:\n",
        "  docs0=re.findall('[^\\n]', n)\n",
        "  docs0=''.join(docs0)\n",
        "  docs1.append(docs0)\n",
        "\n",
        "len(docs)==1000"
      ],
      "metadata": {
        "id": "PwbYYIuZn8pE",
        "colab": {
          "base_uri": "https://localhost:8080/"
        },
        "outputId": "2cfc5245-3038-48e0-9512-c9579b7cd62a"
      },
      "execution_count": null,
      "outputs": [
        {
          "output_type": "execute_result",
          "data": {
            "text/plain": [
              "True"
            ]
          },
          "metadata": {},
          "execution_count": 6
        }
      ]
    },
    {
      "cell_type": "code",
      "source": [
        "docs1[0:10]\n"
      ],
      "metadata": {
        "id": "j-0qeh2Jn8l1",
        "colab": {
          "base_uri": "https://localhost:8080/"
        },
        "outputId": "064ae2cd-661d-4310-eca0-35dba14696f2"
      },
      "execution_count": null,
      "outputs": [
        {
          "output_type": "execute_result",
          "data": {
            "text/plain": [
              "['Wow... Loved this place.',\n",
              " 'Crust is not good.',\n",
              " 'Not tasty and the texture was just nasty.',\n",
              " 'Stopped by during the late May bank holiday off Rick Steve recommendation and loved it.',\n",
              " 'The selection on the menu was great and so were the prices.',\n",
              " 'Now I am getting angry and I want my damn pho.',\n",
              " \"Honeslty it didn't taste THAT fresh.)\",\n",
              " 'The potatoes were like rubber and you could tell they had been made up ahead of time being kept under a warmer.',\n",
              " 'The fries were great too.',\n",
              " 'A great touch.']"
            ]
          },
          "metadata": {},
          "execution_count": 7
        }
      ]
    },
    {
      "cell_type": "markdown",
      "source": [
        "*   **Pregunta 2.**  \n",
        "\n",
        "Busca e imprime todas las palabras que terminan con dos o más signos de admiración seguidos, por ejemplo \"!!!\".\n",
        "\n",
        "Debes imprimir tanto la palabra como la totalidad de signos de admiración que le siguen.\n",
        "\n",
        "Indica cuántos resultados obtuviste.\n",
        "\n"
      ],
      "metadata": {
        "id": "VWeKQC93ctEo"
      }
    },
    {
      "cell_type": "code",
      "source": [
        "docs2=[re.findall(r'\\w+(?:!{2,})', n) for n in docs1 if re.findall(r'\\w+(?:!{2,})', n) ]\n",
        "docs2"
      ],
      "metadata": {
        "id": "SPVM1MCWdH6Z",
        "colab": {
          "base_uri": "https://localhost:8080/"
        },
        "outputId": "32528cf4-660e-473b-fd83-bedca4fcb3c9"
      },
      "execution_count": null,
      "outputs": [
        {
          "output_type": "execute_result",
          "data": {
            "text/plain": [
              "[['Firehouse!!!!!'],\n",
              " ['APPETIZERS!!!'],\n",
              " ['amazing!!!'],\n",
              " ['buffet!!!'],\n",
              " ['good!!'],\n",
              " ['it!!!!'],\n",
              " ['DELICIOUS!!'],\n",
              " ['amazing!!'],\n",
              " ['shawarrrrrrma!!!!!!'],\n",
              " ['yucky!!!'],\n",
              " ['steak!!!!!'],\n",
              " ['delicious!!!'],\n",
              " ['far!!'],\n",
              " ['biscuits!!!'],\n",
              " ['dry!!'],\n",
              " ['disappointing!!!'],\n",
              " ['awesome!!'],\n",
              " ['Up!!'],\n",
              " ['FLY!!!!!!!!'],\n",
              " ['here!!!'],\n",
              " ['great!!!!!!!!!!!!!!'],\n",
              " ['packed!!'],\n",
              " ['otherwise!!'],\n",
              " ['amazing!!!!!!!!!!!!!!!!!!!'],\n",
              " ['style!!'],\n",
              " ['disappointed!!']]"
            ]
          },
          "metadata": {},
          "execution_count": 8
        }
      ]
    },
    {
      "cell_type": "code",
      "source": [
        "len(docs2)"
      ],
      "metadata": {
        "colab": {
          "base_uri": "https://localhost:8080/"
        },
        "id": "luaizQq-eS0C",
        "outputId": "34cc354b-f7db-498a-d55d-8dd00291700f"
      },
      "execution_count": null,
      "outputs": [
        {
          "output_type": "execute_result",
          "data": {
            "text/plain": [
              "26"
            ]
          },
          "metadata": {},
          "execution_count": 9
        }
      ]
    },
    {
      "cell_type": "markdown",
      "source": [
        "*   **Pregunta 3.**  \n",
        "\n",
        "Busca e imprime todas las palabras que están escritas totalmente en mayúsculas. Cada coincidencia debe ser una sola palabra.\n",
        "\n",
        "Indica cuántas palabras encontraste.\n",
        "\n"
      ],
      "metadata": {
        "id": "-s3okBqL96TT"
      }
    },
    {
      "cell_type": "code",
      "source": [
        "docs3= [re.findall(r'\\w+(?:[A-Z])', n) for n in docs1 if re.findall(r'\\w+(?:[A-Z])', n)]\n",
        "docs3 =[item for sublist in docs3 for item in sublist]\n",
        "docs3"
      ],
      "metadata": {
        "id": "yKHJkZKo_nW5",
        "colab": {
          "base_uri": "https://localhost:8080/"
        },
        "outputId": "488631a2-bffe-4721-d08f-99b04894aabe"
      },
      "execution_count": null,
      "outputs": [
        {
          "output_type": "execute_result",
          "data": {
            "text/plain": [
              "['THAT',\n",
              " 'APPETIZERS',\n",
              " 'WILL',\n",
              " 'NEVER',\n",
              " 'EVER',\n",
              " 'STEP',\n",
              " 'FORWARD',\n",
              " 'IN',\n",
              " 'IT',\n",
              " 'AGAIN',\n",
              " 'LOVED',\n",
              " 'AND',\n",
              " 'REAL',\n",
              " 'BITCHES',\n",
              " 'NYC',\n",
              " 'STALE',\n",
              " 'DELICIOUS',\n",
              " 'WORST',\n",
              " 'EXPERIENCE',\n",
              " 'EVER',\n",
              " 'ALL',\n",
              " 'BARGAIN',\n",
              " 'TV',\n",
              " 'NONE',\n",
              " 'FREEZING',\n",
              " 'AYCE',\n",
              " 'FLAVOR',\n",
              " 'NEVER',\n",
              " 'BBQ',\n",
              " 'UNREAL',\n",
              " 'OMG',\n",
              " 'BETTER',\n",
              " 'BLAND',\n",
              " 'RUDE',\n",
              " 'INCONSIDERATE',\n",
              " 'MANAGEMENT',\n",
              " 'WILL',\n",
              " 'NEVER',\n",
              " 'EVER',\n",
              " 'GO',\n",
              " 'BACK',\n",
              " 'AND',\n",
              " 'HAVE',\n",
              " 'TOLD',\n",
              " 'MANY',\n",
              " 'PEOPLE',\n",
              " 'WHAT',\n",
              " 'HAD',\n",
              " 'HAPPENED',\n",
              " 'TOTAL',\n",
              " 'WASTE',\n",
              " 'OF',\n",
              " 'TIME',\n",
              " 'FS',\n",
              " 'AZ',\n",
              " 'LOVED',\n",
              " 'CONCLUSION',\n",
              " 'BEST',\n",
              " 'GO',\n",
              " 'NOW',\n",
              " 'GC',\n",
              " 'AVOID',\n",
              " 'THIS',\n",
              " 'ESTABLISHMENT',\n",
              " 'AN',\n",
              " 'HOUR',\n",
              " 'NASTY',\n",
              " 'OMG',\n",
              " 'NO',\n",
              " 'BEST',\n",
              " 'THE',\n",
              " 'OWNERS',\n",
              " 'REALLY',\n",
              " 'REALLY',\n",
              " 'PERFECT',\n",
              " 'SCREAMS',\n",
              " 'LEGIT',\n",
              " 'MGM',\n",
              " 'BEST',\n",
              " 'FLY',\n",
              " 'FLY',\n",
              " 'FANTASTIC',\n",
              " 'GREAT',\n",
              " 'OK',\n",
              " 'WAY',\n",
              " 'MUST',\n",
              " 'HAVE',\n",
              " 'OK',\n",
              " 'OVERPRICED',\n",
              " 'BARE',\n",
              " 'HANDS',\n",
              " 'WEAK',\n",
              " 'SHOULD',\n",
              " 'RI',\n",
              " 'WAAAAAA',\n",
              " 'VERY',\n",
              " 'NOT']"
            ]
          },
          "metadata": {},
          "execution_count": 10
        }
      ]
    },
    {
      "cell_type": "code",
      "source": [
        "len(docs3)"
      ],
      "metadata": {
        "id": "L3q08aq69sNn",
        "colab": {
          "base_uri": "https://localhost:8080/"
        },
        "outputId": "3e3405ab-b325-4f04-854f-2922937726c5"
      },
      "execution_count": null,
      "outputs": [
        {
          "output_type": "execute_result",
          "data": {
            "text/plain": [
              "97"
            ]
          },
          "metadata": {},
          "execution_count": 11
        }
      ]
    },
    {
      "cell_type": "markdown",
      "source": [
        "*   **Pregunta 4.**  \n",
        "\n",
        "Busca e imprime los comentarios en donde todos los caracteres alfabéticos (letras) están en mayúsculas.\n",
        "\n",
        "Cada coincidencia encontrada debe ser todo el comentario/enunciado.\n",
        "\n",
        "Indica cuántos resultados obtuviste.\n"
      ],
      "metadata": {
        "id": "GX8eYyDoMZma"
      }
    },
    {
      "cell_type": "code",
      "source": [
        "docs4=[re.findall(r'\\b([A-Z]+(?:\\s+[A-Z]\\w+|\\W)*)\\b', n) for n in docs1 if n.upper()==n]\n",
        "docs4"
      ],
      "metadata": {
        "id": "K8VuZxvTMYj6",
        "colab": {
          "base_uri": "https://localhost:8080/"
        },
        "outputId": "9b29f81d-4772-487e-e410-40f472a809e8"
      },
      "execution_count": null,
      "outputs": [
        {
          "output_type": "execute_result",
          "data": {
            "text/plain": [
              "[['DELICIOUS'],\n",
              " ['RUDE & INCONSIDERATE MANAGEMENT'],\n",
              " ['WILL NEVER EVER GO BACK AND HAVE TOLD MANY PEOPLE WHAT HAD HAPPENED'],\n",
              " ['TOTAL WASTE OF TIME'],\n",
              " ['AVOID THIS ESTABLISHMENT']]"
            ]
          },
          "metadata": {},
          "execution_count": 77
        }
      ]
    },
    {
      "cell_type": "code",
      "source": [
        "len(docs4)"
      ],
      "metadata": {
        "id": "PmKgX7sCMcDx",
        "colab": {
          "base_uri": "https://localhost:8080/"
        },
        "outputId": "d97adad8-b570-4129-8750-3f28ac650b3e"
      },
      "execution_count": null,
      "outputs": [
        {
          "output_type": "execute_result",
          "data": {
            "text/plain": [
              "5"
            ]
          },
          "metadata": {},
          "execution_count": 78
        }
      ]
    },
    {
      "cell_type": "markdown",
      "source": [
        "*   **Pregunta 5.**  \n",
        "\n",
        "Busca e imprime todas las palabras que tengan una vocal acentuada, del tipo á, é, í, ó, ú.\n",
        "\n",
        "Indica cuántos resultados obtuviste."
      ],
      "metadata": {
        "id": "a1i6qv7-McmU"
      }
    },
    {
      "cell_type": "code",
      "source": [
        "docs5=[re.findall(r'\\w+(?:á|é|í|ó|ú)\\w+', n) for n in docs1 if re.findall(r'\\w+(á|é|í|ó|ú)\\w+\\b', n) ]\n",
        "docs5"
      ],
      "metadata": {
        "id": "nZZ5zKUOMeGD",
        "colab": {
          "base_uri": "https://localhost:8080/"
        },
        "outputId": "a1f3f673-0542-4803-bfdc-c82d41405753"
      },
      "execution_count": null,
      "outputs": [
        {
          "output_type": "execute_result",
          "data": {
            "text/plain": [
              "[['puréed']]"
            ]
          },
          "metadata": {},
          "execution_count": 13
        }
      ]
    },
    {
      "cell_type": "code",
      "source": [
        "len(docs5)"
      ],
      "metadata": {
        "id": "l1mFvUEZMe8s",
        "colab": {
          "base_uri": "https://localhost:8080/"
        },
        "outputId": "c2991202-4886-4808-9789-38a6a8facbc7"
      },
      "execution_count": null,
      "outputs": [
        {
          "output_type": "execute_result",
          "data": {
            "text/plain": [
              "1"
            ]
          },
          "metadata": {},
          "execution_count": 14
        }
      ]
    },
    {
      "cell_type": "markdown",
      "source": [
        "*   **Pregunta 6.**  \n",
        "\n",
        "Busca e imprime todas las cantidades numéricas monetarias, enteras o con decimales, que inician con el símbolo $\\$$.\n",
        "\n",
        "Indica cuántos resultados obtuviste."
      ],
      "metadata": {
        "id": "ZmPiAI82Mfb3"
      }
    },
    {
      "cell_type": "code",
      "source": [
        "docs6= [re.findall(r'(\\$[0-9].[0-9]*)', n) for n in docs1 if re.findall(r'(\\$[0-9].[0-9]*)', n)]\n",
        "docs6"
      ],
      "metadata": {
        "id": "6vhe9-Y-MhL9",
        "colab": {
          "base_uri": "https://localhost:8080/"
        },
        "outputId": "7edf78db-00fe-41c5-b5d8-73e98adad8d0"
      },
      "execution_count": null,
      "outputs": [
        {
          "output_type": "execute_result",
          "data": {
            "text/plain": [
              "[['$20'], ['$4.00'], ['$17'], ['$3 '], ['$35'], ['$7.85'], ['$12'], ['$11']]"
            ]
          },
          "metadata": {},
          "execution_count": 15
        }
      ]
    },
    {
      "cell_type": "code",
      "source": [
        "len(docs6)"
      ],
      "metadata": {
        "id": "_t0a5xWDMhQ5",
        "colab": {
          "base_uri": "https://localhost:8080/"
        },
        "outputId": "d38139bb-b0c2-410e-9f10-4db58eae1ee4"
      },
      "execution_count": null,
      "outputs": [
        {
          "output_type": "execute_result",
          "data": {
            "text/plain": [
              "8"
            ]
          },
          "metadata": {},
          "execution_count": 16
        }
      ]
    },
    {
      "cell_type": "markdown",
      "source": [
        "*   **Pregunta 7.**  \n",
        "\n",
        "Busca e imprime todas las palabras que sean variantes de la palabra \"love\", sin importar si incluyen mayúsculas o minúsculas, o la manera en que esté conjugada o alguna otra variación que se haga con dicha palabra.\n",
        "\n",
        "Indica cuántos resultados obtuviste."
      ],
      "metadata": {
        "id": "2j-HpvhwMhq2"
      }
    },
    {
      "cell_type": "code",
      "source": [
        "docs7=[re.findall(r\"(?:love)\\w+|love\", n, re.IGNORECASE) for n in docs1 if re.findall(r\"(?:love)\\w+|love\", n, re.IGNORECASE)  ]\n",
        "docs7 =[item for sublist in docs7 for item in sublist]\n",
        "docs7"
      ],
      "metadata": {
        "id": "kqqyRChVMjol",
        "colab": {
          "base_uri": "https://localhost:8080/"
        },
        "outputId": "03c94013-a58a-49ea-eed6-470d45073028"
      },
      "execution_count": null,
      "outputs": [
        {
          "output_type": "execute_result",
          "data": {
            "text/plain": [
              "['Loved',\n",
              " 'loved',\n",
              " 'Loved',\n",
              " 'love',\n",
              " 'loves',\n",
              " 'LOVED',\n",
              " 'lovers',\n",
              " 'love',\n",
              " 'lovers',\n",
              " 'Love',\n",
              " 'loved',\n",
              " 'loved',\n",
              " 'love',\n",
              " 'love',\n",
              " 'love',\n",
              " 'loved',\n",
              " 'love',\n",
              " 'loved',\n",
              " 'Love',\n",
              " 'LOVED',\n",
              " 'love',\n",
              " 'lovely',\n",
              " 'love',\n",
              " 'lovely',\n",
              " 'love',\n",
              " 'lover',\n",
              " 'loved',\n",
              " 'love',\n",
              " 'love',\n",
              " 'love',\n",
              " 'love',\n",
              " 'loves',\n",
              " 'love',\n",
              " 'love',\n",
              " 'love',\n",
              " 'love']"
            ]
          },
          "metadata": {},
          "execution_count": 17
        }
      ]
    },
    {
      "cell_type": "code",
      "source": [
        "len(docs7)"
      ],
      "metadata": {
        "id": "UXd0VQluMj_x",
        "colab": {
          "base_uri": "https://localhost:8080/"
        },
        "outputId": "50db8e24-9dba-430a-8058-e6c6dc6f2cca"
      },
      "execution_count": null,
      "outputs": [
        {
          "output_type": "execute_result",
          "data": {
            "text/plain": [
              "36"
            ]
          },
          "metadata": {},
          "execution_count": 18
        }
      ]
    },
    {
      "cell_type": "markdown",
      "source": [
        "*   **Pregunta 8.**  \n",
        "\n",
        "Busca e imprime todas las palabras, variantes de \"so\" y \"good\", que tengan dos o más \"o\" en \"so\" y 3 o más \"o\" en good.\n",
        "\n",
        "Indica cuántas encontraste.\n"
      ],
      "metadata": {
        "id": "Ctb-NTY3MkYG"
      }
    },
    {
      "cell_type": "code",
      "source": [
        "docs8=[re.findall(r\"(?:so{2,})\\w+|(?:go{2,}od)\\w+\", n, re.IGNORECASE) for n in docs1 if re.findall(r\"(?:so{2,})\\w+|(?:go{2,}od)\\w+\", n, re.IGNORECASE) ]\n",
        "docs8 =[item for sublist in docs8 for item in sublist]\n",
        "docs8"
      ],
      "metadata": {
        "id": "A8Nf3B_cMlqg",
        "colab": {
          "base_uri": "https://localhost:8080/"
        },
        "outputId": "3ff218d4-4557-4a04-8dee-3a818555ce07"
      },
      "execution_count": null,
      "outputs": [
        {
          "output_type": "execute_result",
          "data": {
            "text/plain": [
              "['Sooooo',\n",
              " 'soon',\n",
              " 'soooo',\n",
              " 'soon',\n",
              " 'soon',\n",
              " 'gooodd',\n",
              " 'soon',\n",
              " 'soon',\n",
              " 'soooooo',\n",
              " 'soon',\n",
              " 'soon',\n",
              " 'soooo',\n",
              " 'soon',\n",
              " 'soon']"
            ]
          },
          "metadata": {},
          "execution_count": 28
        }
      ]
    },
    {
      "cell_type": "code",
      "source": [
        "len(docs8)"
      ],
      "metadata": {
        "id": "svS4-vvPMl6f",
        "colab": {
          "base_uri": "https://localhost:8080/"
        },
        "outputId": "86d35d63-0d56-44bd-91a2-c7d43e9da169"
      },
      "execution_count": null,
      "outputs": [
        {
          "output_type": "execute_result",
          "data": {
            "text/plain": [
              "14"
            ]
          },
          "metadata": {},
          "execution_count": 29
        }
      ]
    },
    {
      "cell_type": "markdown",
      "source": [
        "*   **Pregunta 9.**  \n",
        "\n",
        "Busca e imprime todas las palabras que tengan una longitud mayor estrictamente a 10 caracteres alfabéticos.\n",
        "\n",
        "No se consideran los signos de puntuación o caracteres especiales en la longitud de estas cadenas, solo caracteres alfabéticos en mayúsculas o minúsculas.\n",
        "\n",
        "Indica la cantidad de palabras encontradas.\n"
      ],
      "metadata": {
        "id": "hkak1opjMmlk"
      }
    },
    {
      "cell_type": "code",
      "source": [
        "docs9= [re.findall(r'\\b[A-Za-z]{11,}\\b', n) for n in docs1 if re.findall(r'\\b[A-Za-z]{11,}\\b', n)]\n",
        "docs9 =[item for sublist in docs9 for item in sublist]\n",
        "docs9"
      ],
      "metadata": {
        "id": "PYxdp3uhMoD0",
        "colab": {
          "base_uri": "https://localhost:8080/"
        },
        "outputId": "167056e2-a9e5-4f4d-bd01-71b9faf1d7f3"
      },
      "execution_count": null,
      "outputs": [
        {
          "output_type": "execute_result",
          "data": {
            "text/plain": [
              "['recommendation',\n",
              " 'recommended',\n",
              " 'overwhelmed',\n",
              " 'inexpensive',\n",
              " 'establishment',\n",
              " 'imaginative',\n",
              " 'opportunity',\n",
              " 'experiencing',\n",
              " 'underwhelming',\n",
              " 'relationship',\n",
              " 'unsatisfying',\n",
              " 'disappointing',\n",
              " 'outrageously',\n",
              " 'disappointing',\n",
              " 'expectations',\n",
              " 'restaurants',\n",
              " 'suggestions',\n",
              " 'disappointed',\n",
              " 'considering',\n",
              " 'Unfortunately',\n",
              " 'immediately',\n",
              " 'ingredients',\n",
              " 'accommodations',\n",
              " 'maintaining',\n",
              " 'Interesting',\n",
              " 'disrespected',\n",
              " 'accordingly',\n",
              " 'unbelievable',\n",
              " 'cheeseburger',\n",
              " 'descriptions',\n",
              " 'inexpensive',\n",
              " 'disappointed',\n",
              " 'Veggitarian',\n",
              " 'outstanding',\n",
              " 'recommendation',\n",
              " 'disappointed',\n",
              " 'disappointed',\n",
              " 'neighborhood',\n",
              " 'disappointed',\n",
              " 'corporation',\n",
              " 'considering',\n",
              " 'exceptional',\n",
              " 'shawarrrrrrma',\n",
              " 'disappointed',\n",
              " 'vinaigrette',\n",
              " 'immediately',\n",
              " 'unbelievably',\n",
              " 'replenished',\n",
              " 'disappointed',\n",
              " 'enthusiastic',\n",
              " 'Outstanding',\n",
              " 'comfortable',\n",
              " 'interesting',\n",
              " 'INCONSIDERATE',\n",
              " 'considering',\n",
              " 'transcendant',\n",
              " 'disappointment',\n",
              " 'disappointed',\n",
              " 'disappointed',\n",
              " 'overwhelmed',\n",
              " 'professional',\n",
              " 'Furthermore',\n",
              " 'combination',\n",
              " 'connoisseur',\n",
              " 'profiterole',\n",
              " 'outstanding',\n",
              " 'acknowledged',\n",
              " 'ventilation',\n",
              " 'beautifully',\n",
              " 'establishment',\n",
              " 'extraordinary',\n",
              " 'disappointed',\n",
              " 'cheesecurds',\n",
              " 'disappointed',\n",
              " 'interesting',\n",
              " 'experienced',\n",
              " 'opportunity',\n",
              " 'disgraceful',\n",
              " 'restaurants',\n",
              " 'ESTABLISHMENT',\n",
              " 'recommended',\n",
              " 'disappointed',\n",
              " 'recommended',\n",
              " 'acknowledged',\n",
              " 'presentation',\n",
              " 'Philadelphia',\n",
              " 'disappointed',\n",
              " 'disappointing',\n",
              " 'grandmother',\n",
              " 'drastically',\n",
              " 'informative',\n",
              " 'Disappointed',\n",
              " 'constructed',\n",
              " 'comfortable',\n",
              " 'Smashburger',\n",
              " 'cheeseburger',\n",
              " 'neighborhood',\n",
              " 'disappointed',\n",
              " 'hospitality',\n",
              " 'recommending',\n",
              " 'disappointed',\n",
              " 'deliciously',\n",
              " 'compliments',\n",
              " 'recommendation',\n",
              " 'establishment',\n",
              " 'calligraphy',\n",
              " 'traditional',\n",
              " 'combination',\n",
              " 'Unfortunately',\n",
              " 'Wienerschnitzel',\n",
              " 'unfortunately',\n",
              " 'considering',\n",
              " 'highlighted',\n",
              " 'Mediterranean',\n",
              " 'unprofessional',\n",
              " 'anticipated',\n",
              " 'disappointing',\n",
              " 'unexperienced',\n",
              " 'disrespected',\n",
              " 'professional',\n",
              " 'restaurants',\n",
              " 'Disappointing',\n",
              " 'WAAAAAAyyyyyyyyyy',\n",
              " 'reservation',\n",
              " 'imagination',\n",
              " 'undercooked',\n",
              " 'disappointed',\n",
              " 'disappointment',\n",
              " 'disappointment',\n",
              " 'deuchebaggery',\n",
              " 'disappointed',\n",
              " 'disappointment',\n",
              " 'immediately',\n",
              " 'Unfortunately',\n",
              " 'disapppointment',\n",
              " 'circumstances',\n",
              " 'undercooked',\n",
              " 'caterpillar',\n",
              " 'presentation',\n",
              " 'disappointed',\n",
              " 'underwhelming']"
            ]
          },
          "metadata": {},
          "execution_count": 19
        }
      ]
    },
    {
      "cell_type": "code",
      "source": [
        "len(docs9)"
      ],
      "metadata": {
        "id": "BR7e2F4FMof-",
        "colab": {
          "base_uri": "https://localhost:8080/"
        },
        "outputId": "b8673618-e3be-4abc-d031-d020bacd547e"
      },
      "execution_count": null,
      "outputs": [
        {
          "output_type": "execute_result",
          "data": {
            "text/plain": [
              "141"
            ]
          },
          "metadata": {},
          "execution_count": 20
        }
      ]
    },
    {
      "cell_type": "markdown",
      "source": [
        "*   **Pregunta 10.**  \n",
        "\n",
        "Busca e imprime todas las palabras que inician con una letra mayúscula y terminan con una minúscula, pero que además no sea la primera palabra del comentario/string.\n",
        "\n",
        "Indica la cantidad de resultados obtenidos."
      ],
      "metadata": {
        "id": "ApjTNzSxMpDc"
      }
    },
    {
      "cell_type": "code",
      "source": [
        "docs10=[re.findall(r'.\\b([A-Z]\\w+[a-z]\\b)', n) for n in docs1 if re.findall(r'.\\b([A-Z]\\w+[a-z]\\b)', n)] # en esta pregunta estoy considerando que \"I\" no cumple con las especificaciones de\n",
        "docs10 =[item for sublist in docs10 for item in sublist]\n",
        "docs10                              # la instruccion pues no termina con minuscula"
      ],
      "metadata": {
        "id": "Vb0ndRGAMqdL",
        "colab": {
          "base_uri": "https://localhost:8080/"
        },
        "outputId": "5b770a85-4870-420c-ed44-97eb850b3056"
      },
      "execution_count": null,
      "outputs": [
        {
          "output_type": "execute_result",
          "data": {
            "text/plain": [
              "['Loved',\n",
              " 'May',\n",
              " 'Rick',\n",
              " 'Steve',\n",
              " 'Cape',\n",
              " 'Cod',\n",
              " 'This',\n",
              " 'Vegas',\n",
              " 'Burrittos',\n",
              " 'Blah',\n",
              " 'The',\n",
              " 'The',\n",
              " 'They',\n",
              " 'This',\n",
              " 'Mexican',\n",
              " 'Took',\n",
              " 'Luke',\n",
              " 'Our',\n",
              " 'Also',\n",
              " 'Overall',\n",
              " 'Poor',\n",
              " 'Hiro',\n",
              " 'Frozen',\n",
              " 'The',\n",
              " 'Firehouse',\n",
              " 'Greek',\n",
              " 'Greek',\n",
              " 'They',\n",
              " 'Loved',\n",
              " 'Heart',\n",
              " 'Attack',\n",
              " 'Grill',\n",
              " 'Vegas',\n",
              " 'The',\n",
              " 'The',\n",
              " 'Great',\n",
              " 'Dos',\n",
              " 'Gringos',\n",
              " 'The',\n",
              " 'Jeff',\n",
              " 'Really',\n",
              " 'Excalibur',\n",
              " 'Very',\n",
              " 'Bad',\n",
              " 'Customer',\n",
              " 'Service',\n",
              " 'Vegas',\n",
              " 'Rice',\n",
              " 'Company',\n",
              " 'Pho',\n",
              " 'Never',\n",
              " 'Hard',\n",
              " 'Rock',\n",
              " 'Casino',\n",
              " 'Our',\n",
              " 'The',\n",
              " 'Best',\n",
              " 'Buffet',\n",
              " 'Tigerlilly',\n",
              " 'The',\n",
              " 'Yama',\n",
              " 'Thai',\n",
              " 'Nice',\n",
              " 'Although',\n",
              " 'Indian',\n",
              " 'Worst',\n",
              " 'The',\n",
              " 'Host',\n",
              " 'Not',\n",
              " 'Phenomenal',\n",
              " 'Definitely',\n",
              " 'Vegas',\n",
              " 'They',\n",
              " 'Delicious',\n",
              " 'Lox',\n",
              " 'Great',\n",
              " 'Subway',\n",
              " 'Subway',\n",
              " 'Vegas',\n",
              " 'Vegas',\n",
              " 'The',\n",
              " 'The',\n",
              " 'Mandalay',\n",
              " 'Bay',\n",
              " 'Great',\n",
              " 'Voodoo',\n",
              " 'Unfortunately',\n",
              " 'Their',\n",
              " 'Phoenix',\n",
              " 'This',\n",
              " 'Vegas',\n",
              " 'Lordy',\n",
              " 'Khao',\n",
              " 'Soi',\n",
              " 'Perhaps',\n",
              " 'The',\n",
              " 'Not',\n",
              " 'The',\n",
              " 'Love',\n",
              " 'Lemon',\n",
              " 'The',\n",
              " 'Also',\n",
              " 'When',\n",
              " 'Joey',\n",
              " 'Valley',\n",
              " 'Phoenix',\n",
              " 'Magazine',\n",
              " 'Pho',\n",
              " 'Fridays',\n",
              " 'The',\n",
              " 'For',\n",
              " 'Tasty',\n",
              " 'Jamaican',\n",
              " 'The',\n",
              " 'Lobster',\n",
              " 'Bisque',\n",
              " 'Bussell',\n",
              " 'Sprouts',\n",
              " 'Risotto',\n",
              " 'Filet',\n",
              " 'Otto',\n",
              " 'Ordered',\n",
              " 'Yeah',\n",
              " 'The',\n",
              " 'Honestly',\n",
              " 'Not',\n",
              " 'Everyone',\n",
              " 'Also',\n",
              " 'Drinks',\n",
              " 'Seriously',\n",
              " 'Vegas',\n",
              " 'Greek',\n",
              " 'Overall',\n",
              " 'Vegas',\n",
              " 'Good',\n",
              " 'Plus',\n",
              " 'The',\n",
              " 'Thus',\n",
              " 'For',\n",
              " 'Veggitarian',\n",
              " 'Stopped',\n",
              " 'Madison',\n",
              " 'Ironman',\n",
              " 'Jenni',\n",
              " 'Pho',\n",
              " 'Bachi',\n",
              " 'Burger',\n",
              " 'This',\n",
              " 'Pizza',\n",
              " 'Salads',\n",
              " 'They',\n",
              " 'Yelpers',\n",
              " 'The',\n",
              " 'You',\n",
              " 'Bachi',\n",
              " 'Service',\n",
              " 'Will',\n",
              " 'English',\n",
              " 'Great',\n",
              " 'Back',\n",
              " 'And',\n",
              " 'Also',\n",
              " 'They',\n",
              " 'Pizza',\n",
              " 'Hut',\n",
              " 'Both',\n",
              " 'Seat',\n",
              " 'The',\n",
              " 'Gold',\n",
              " 'Standard',\n",
              " 'Thai',\n",
              " 'Tucson',\n",
              " 'Vegas',\n",
              " 'This',\n",
              " 'Chipotle',\n",
              " 'Classy',\n",
              " 'Baseball',\n",
              " 'Sadly',\n",
              " 'Gordon',\n",
              " 'Ramsey',\n",
              " 'Steak',\n",
              " 'Vegas',\n",
              " 'The',\n",
              " 'Outstanding',\n",
              " 'Best',\n",
              " 'Food',\n",
              " 'Lobster',\n",
              " 'Bisque',\n",
              " 'Vegas',\n",
              " 'The',\n",
              " 'The',\n",
              " 'They',\n",
              " 'Eggplant',\n",
              " 'Green',\n",
              " 'Bean',\n",
              " 'The',\n",
              " 'Halibut',\n",
              " 'Vegas',\n",
              " 'Vegas',\n",
              " 'Vegas',\n",
              " 'Crystals',\n",
              " 'Aria',\n",
              " 'Ians',\n",
              " 'Overall',\n",
              " 'Bouchon',\n",
              " 'Great',\n",
              " 'San',\n",
              " 'Francisco',\n",
              " 'Bay',\n",
              " 'Area',\n",
              " 'Buldogis',\n",
              " 'Gourmet',\n",
              " 'Hot',\n",
              " 'Dog',\n",
              " 'Come',\n",
              " 'For',\n",
              " 'Our',\n",
              " 'Furthermore',\n",
              " 'Strike',\n",
              " 'Steiners',\n",
              " 'Anyway',\n",
              " 'Not',\n",
              " 'The',\n",
              " 'The',\n",
              " 'Carly',\n",
              " 'This',\n",
              " 'Love',\n",
              " 'Vegas',\n",
              " 'Very',\n",
              " 'Total',\n",
              " 'Camelback',\n",
              " 'Flower',\n",
              " 'Shop',\n",
              " 'Cartel',\n",
              " 'Coffee',\n",
              " 'Third',\n",
              " 'This',\n",
              " 'Las',\n",
              " 'Vegas',\n",
              " 'This',\n",
              " 'Worse',\n",
              " 'Bunch',\n",
              " 'Very',\n",
              " 'This',\n",
              " 'Mom',\n",
              " 'Noca',\n",
              " 'Give',\n",
              " 'Anyway',\n",
              " 'Point',\n",
              " 'Similarly',\n",
              " 'The',\n",
              " 'Vegas',\n",
              " 'Sat',\n",
              " 'Sun',\n",
              " 'Mexican',\n",
              " 'Frenchman',\n",
              " 'Great',\n",
              " 'Perfect',\n",
              " 'Vegas',\n",
              " 'However',\n",
              " 'Palm',\n",
              " 'The',\n",
              " 'Are',\n",
              " 'This',\n",
              " 'The',\n",
              " 'Thai',\n",
              " 'All',\n",
              " 'Toast',\n",
              " 'Thai',\n",
              " 'Phoenix',\n",
              " 'Crema',\n",
              " 'Philadelphia',\n",
              " 'Good',\n",
              " 'North',\n",
              " 'Scottsdale',\n",
              " 'The',\n",
              " 'Sorry',\n",
              " 'Bloody',\n",
              " 'Mary',\n",
              " 'Despite',\n",
              " 'Pho',\n",
              " 'The',\n",
              " 'Same',\n",
              " 'Caesar',\n",
              " 'After',\n",
              " 'Macarons',\n",
              " 'Our',\n",
              " 'Experience',\n",
              " 'Very',\n",
              " 'Disappointed',\n",
              " 'Big',\n",
              " 'Bay',\n",
              " 'Plater',\n",
              " 'Not',\n",
              " 'Italian',\n",
              " 'That',\n",
              " 'Vegas',\n",
              " 'Baba',\n",
              " 'Ganoush',\n",
              " 'Very',\n",
              " 'The',\n",
              " 'Nobu',\n",
              " 'Smashburger',\n",
              " 'Panna',\n",
              " 'Cotta',\n",
              " 'Very',\n",
              " 'Prices',\n",
              " 'The',\n",
              " 'Good',\n",
              " 'Hawaiian',\n",
              " 'Breeze',\n",
              " 'Mango',\n",
              " 'Magic',\n",
              " 'Pineapple',\n",
              " 'Delight',\n",
              " 'Needless',\n",
              " 'Anyways',\n",
              " 'The',\n",
              " 'The',\n",
              " 'Strip',\n",
              " 'Steak',\n",
              " 'Paradise',\n",
              " 'Valley',\n",
              " 'Cibo',\n",
              " 'Service',\n",
              " 'That',\n",
              " 'Thumbs',\n",
              " 'Italian',\n",
              " 'Pros',\n",
              " 'Large',\n",
              " 'Nice',\n",
              " 'Great',\n",
              " 'The',\n",
              " 'Elk',\n",
              " 'Filet',\n",
              " 'After',\n",
              " 'Cute',\n",
              " 'The',\n",
              " 'Dylan',\n",
              " 'All',\n",
              " 'One',\n",
              " 'Han',\n",
              " 'Nan',\n",
              " 'Chicken',\n",
              " 'The',\n",
              " 'Bar',\n",
              " 'Edinburgh',\n",
              " 'Chinese',\n",
              " 'Overall',\n",
              " 'Indian',\n",
              " 'Probably',\n",
              " 'Friend',\n",
              " 'Try',\n",
              " 'Chinese',\n",
              " 'When',\n",
              " 'The',\n",
              " 'Level',\n",
              " 'Main',\n",
              " 'When',\n",
              " 'Food',\n",
              " 'Prices',\n",
              " 'The',\n",
              " 'Phoenix',\n",
              " 'Both',\n",
              " 'Hot',\n",
              " 'Sour',\n",
              " 'Egg',\n",
              " 'Flower',\n",
              " 'Soups',\n",
              " 'Stars',\n",
              " 'Sunday',\n",
              " 'Hunan',\n",
              " 'What',\n",
              " 'The',\n",
              " 'Unfortunately',\n",
              " 'Perfect',\n",
              " 'The',\n",
              " 'The',\n",
              " 'Great',\n",
              " 'Pita',\n",
              " 'Wienerschnitzel',\n",
              " 'Maine',\n",
              " 'Lobster',\n",
              " 'Roll',\n",
              " 'The',\n",
              " 'Lastly',\n",
              " 'The',\n",
              " 'This',\n",
              " 'Kabuki',\n",
              " 'Best',\n",
              " 'Maria',\n",
              " 'Caballero',\n",
              " 'Bad',\n",
              " 'The',\n",
              " 'Wife',\n",
              " 'Went',\n",
              " 'This',\n",
              " 'Hot',\n",
              " 'Everything',\n",
              " 'They',\n",
              " 'For',\n",
              " 'Strip',\n",
              " 'The',\n",
              " 'Costco',\n",
              " 'All',\n",
              " 'Place',\n",
              " 'Gyros',\n",
              " 'Japanese',\n",
              " 'Now',\n",
              " 'The',\n",
              " 'Albondigas',\n",
              " 'After',\n",
              " 'Mediterranean',\n",
              " 'Chicken',\n",
              " 'Salad',\n",
              " 'Mellow',\n",
              " 'Mushroom',\n",
              " 'Thai',\n",
              " 'Vegas',\n",
              " 'Overall',\n",
              " 'Mmmm',\n",
              " 'Buffet',\n",
              " 'Bellagio',\n",
              " 'And',\n",
              " 'Also',\n",
              " 'Vegas',\n",
              " 'Very',\n",
              " 'How',\n",
              " 'There',\n",
              " 'What',\n",
              " 'Christmas',\n",
              " 'Eve',\n",
              " 'Needless',\n",
              " 'Every',\n",
              " 'However',\n",
              " 'The',\n",
              " 'Denny',\n",
              " 'The',\n",
              " 'The',\n",
              " 'The',\n",
              " 'The',\n",
              " 'Maybe',\n",
              " 'Vegetarian',\n",
              " 'The',\n",
              " 'The',\n",
              " 'Then',\n",
              " 'Insults',\n",
              " 'Taco',\n",
              " 'Unfortunately',\n",
              " 'Your',\n",
              " 'Heimer',\n",
              " 'All',\n",
              " 'Long',\n",
              " 'Bay',\n",
              " 'Subway',\n",
              " 'When',\n",
              " 'Brushfire',\n",
              " 'Mirage',\n",
              " 'The',\n",
              " 'Ninja',\n",
              " 'Sushi',\n",
              " 'Then']"
            ]
          },
          "metadata": {},
          "execution_count": 21
        }
      ]
    },
    {
      "cell_type": "code",
      "source": [
        "len(docs10)"
      ],
      "metadata": {
        "id": "dLPTRPnTMqqx",
        "colab": {
          "base_uri": "https://localhost:8080/"
        },
        "outputId": "31605145-ea48-4afa-ffca-f771100a9235"
      },
      "execution_count": null,
      "outputs": [
        {
          "output_type": "execute_result",
          "data": {
            "text/plain": [
              "462"
            ]
          },
          "metadata": {},
          "execution_count": 22
        }
      ]
    },
    {
      "cell_type": "markdown",
      "source": [
        "*   **Pregunta 11.**  \n",
        "\n",
        "Busca e imprime la secuencia de dos o más palabras que están separadas por un guion, \"-\", sin que tengan espacios en blanco entre ellas.\n",
        "\n",
        "Por ejemplo \"Go-Kart\" sería válido, pero \"Go  -Kart\" o \"Go  -  Kart\" no lo serían.\n",
        "\n",
        "Indica la cantidad de resultados obtenidos."
      ],
      "metadata": {
        "id": "u7nfm4KhMrNW"
      }
    },
    {
      "cell_type": "code",
      "source": [
        "docs11=[re.findall(r'\\w+(?:-\\w+)+\\b', n) for n in docs1 if re.findall(r'\\w+(?:-\\w+)+\\b', n)]\n",
        "docs11 =[item for sublist in docs11 for item in sublist]\n",
        "docs11"
      ],
      "metadata": {
        "id": "OwU-a7eGMsub",
        "colab": {
          "base_uri": "https://localhost:8080/"
        },
        "outputId": "a9aedd32-f200-4880-8a48-7e455eecafd0"
      },
      "execution_count": null,
      "outputs": [
        {
          "output_type": "execute_result",
          "data": {
            "text/plain": [
              "['flat-lined',\n",
              " 'hands-down',\n",
              " 'must-stop',\n",
              " 'sub-par',\n",
              " 'Service-check',\n",
              " 'in-house',\n",
              " 'been-stepped-in-and-tracked-everywhere',\n",
              " 'multi-grain',\n",
              " 'to-go',\n",
              " 'non-customer',\n",
              " 'High-quality',\n",
              " 'sit-down',\n",
              " 'over-whelm',\n",
              " 'low-key',\n",
              " 'non-fancy',\n",
              " 'golden-crispy',\n",
              " 'over-priced',\n",
              " 'over-hip',\n",
              " 'under-services']"
            ]
          },
          "metadata": {},
          "execution_count": 23
        }
      ]
    },
    {
      "cell_type": "code",
      "source": [
        "len(docs11)"
      ],
      "metadata": {
        "id": "SgzIL74ZMtGw",
        "colab": {
          "base_uri": "https://localhost:8080/"
        },
        "outputId": "9a055cdc-0f0f-446e-eeb7-53247ef5d881"
      },
      "execution_count": null,
      "outputs": [
        {
          "output_type": "execute_result",
          "data": {
            "text/plain": [
              "19"
            ]
          },
          "metadata": {},
          "execution_count": 24
        }
      ]
    },
    {
      "cell_type": "markdown",
      "source": [
        "*   **Pregunta 12.**  \n",
        "\n",
        "Busca e imprime todas las palabras que terminan en \"ing\" o \"ed\".\n",
        "\n",
        "Indica la cantidad de palabras que encontraste de cada una."
      ],
      "metadata": {
        "id": "DEIgl79HMthr"
      }
    },
    {
      "cell_type": "code",
      "source": [
        "docs12=[re.findall(r\"\\w+(?:ing|ed)\\b\", n) for n in docs1 if re.findall(r\"\\w+(?:ing|ed)\\b\", n)]\n",
        "docs12 =[item for sublist in docs12 for item in sublist]\n",
        "docs12"
      ],
      "metadata": {
        "id": "I4TSofBMMv9y",
        "colab": {
          "base_uri": "https://localhost:8080/"
        },
        "outputId": "c7bc5f98-f8ba-4ef7-d909-952ce2d90db4"
      },
      "execution_count": null,
      "outputs": [
        {
          "output_type": "execute_result",
          "data": {
            "text/plain": [
              "['Loved',\n",
              " 'Stopped',\n",
              " 'during',\n",
              " 'loved',\n",
              " 'getting',\n",
              " 'being',\n",
              " 'ended',\n",
              " 'being',\n",
              " 'overpriced',\n",
              " 'tried',\n",
              " 'disgusted',\n",
              " 'shocked',\n",
              " 'recommended',\n",
              " 'amazing',\n",
              " 'performed',\n",
              " 'red',\n",
              " 'asked',\n",
              " 'running',\n",
              " 'overwhelmed',\n",
              " 'redeeming',\n",
              " 'grossed',\n",
              " 'melted',\n",
              " 'getting',\n",
              " 'provided',\n",
              " 'thing',\n",
              " 'cooked',\n",
              " 'dressing',\n",
              " 'refreshing',\n",
              " 'ordered',\n",
              " 'running',\n",
              " 'realized',\n",
              " 'Loved',\n",
              " 'lined',\n",
              " 'cooked',\n",
              " 'ripped',\n",
              " 'ripped',\n",
              " 'petrified',\n",
              " 'amazing',\n",
              " 'included',\n",
              " 'expected',\n",
              " 'nothing',\n",
              " 'appalling',\n",
              " 'seasoned',\n",
              " 'cheated',\n",
              " 'wasting',\n",
              " 'eating',\n",
              " 'going',\n",
              " 'Coming',\n",
              " 'experiencing',\n",
              " 'underwhelming',\n",
              " 'walked',\n",
              " 'smelled',\n",
              " 'eating',\n",
              " 'raving',\n",
              " 'tailored',\n",
              " 'spring',\n",
              " 'unsatisfying',\n",
              " 'amazing',\n",
              " 'Everything',\n",
              " 'disappointing',\n",
              " 'dining',\n",
              " 'flirting',\n",
              " 'arrived',\n",
              " 'roasted',\n",
              " 'added',\n",
              " 'thing',\n",
              " 'coming',\n",
              " 'cooked',\n",
              " 'playing',\n",
              " 'passed',\n",
              " 'ordering',\n",
              " 'arriving',\n",
              " 'liked',\n",
              " 'disappointing',\n",
              " 'managed',\n",
              " 'served',\n",
              " 'preparing',\n",
              " 'loving',\n",
              " 'liking',\n",
              " 'reviewing',\n",
              " 'venturing',\n",
              " 'overpriced',\n",
              " 'including',\n",
              " 'during',\n",
              " 'checked',\n",
              " 'disappointed',\n",
              " 'red',\n",
              " 'decorated',\n",
              " 'changing',\n",
              " 'going',\n",
              " 'considering',\n",
              " 'served',\n",
              " 'coming',\n",
              " 'watched',\n",
              " 'greeted',\n",
              " 'seated',\n",
              " 'waited',\n",
              " 'flavored',\n",
              " 'ordered',\n",
              " 'going',\n",
              " 'everything',\n",
              " 'ordered',\n",
              " 'relocated',\n",
              " 'impressed',\n",
              " 'seated',\n",
              " 'priced',\n",
              " 'looking',\n",
              " 'treated',\n",
              " 'ordered',\n",
              " 'dressing',\n",
              " 'dining',\n",
              " 'used',\n",
              " 'handed',\n",
              " 'listed',\n",
              " 'missed',\n",
              " 'Everything',\n",
              " 'thrilled',\n",
              " 'amazing',\n",
              " 'judging',\n",
              " 'inspired',\n",
              " 'desired',\n",
              " 'maintaining',\n",
              " 'asking',\n",
              " 'overcooked',\n",
              " 'decided',\n",
              " 'looked',\n",
              " 'having',\n",
              " 'dressed',\n",
              " 'treated',\n",
              " 'something',\n",
              " 'lacking',\n",
              " 'ordered',\n",
              " 'sucked',\n",
              " 'expected',\n",
              " 'sucked',\n",
              " 'imagined',\n",
              " 'Interesting',\n",
              " 'served',\n",
              " 'preparing',\n",
              " 'arrived',\n",
              " 'missing',\n",
              " 'feeling',\n",
              " 'satisfied',\n",
              " 'voted',\n",
              " 'insulted',\n",
              " 'disrespected',\n",
              " 'exceeding',\n",
              " 'dreamed',\n",
              " 'inviting',\n",
              " 'lived',\n",
              " 'stepped',\n",
              " 'mixed',\n",
              " 'showed',\n",
              " 'climbing',\n",
              " 'waiting',\n",
              " 'realized',\n",
              " 'coming',\n",
              " 'loved',\n",
              " 'being',\n",
              " 'lacking',\n",
              " 'needed',\n",
              " 'going',\n",
              " 'loved',\n",
              " 'wrapped',\n",
              " 'uninspired',\n",
              " 'amazing',\n",
              " 'dealing',\n",
              " 'annoying',\n",
              " 'Ordered',\n",
              " 'falling',\n",
              " 'uploaded',\n",
              " 'sporting',\n",
              " 'covered',\n",
              " 'supposed',\n",
              " 'amazing',\n",
              " 'rolled',\n",
              " 'stayed',\n",
              " 'providing',\n",
              " 'building',\n",
              " 'lighting',\n",
              " 'Based',\n",
              " 'received',\n",
              " 'going',\n",
              " 'nothing',\n",
              " 'privileged',\n",
              " 'working',\n",
              " 'eating',\n",
              " 'dressing',\n",
              " 'being',\n",
              " 'charged',\n",
              " 'visited',\n",
              " 'proclaimed',\n",
              " 'disappointed',\n",
              " 'Stopped',\n",
              " 'dedicated',\n",
              " 'liked',\n",
              " 'outstanding',\n",
              " 'getting',\n",
              " 'disappointed',\n",
              " 'waited',\n",
              " 'waited',\n",
              " 'burned',\n",
              " 'waited',\n",
              " 'amazing',\n",
              " 'disappointed',\n",
              " 'Waited',\n",
              " 'disappointed',\n",
              " 'pulled',\n",
              " 'prepared',\n",
              " 'rating',\n",
              " 'eating',\n",
              " 'writing',\n",
              " 'everything',\n",
              " 'dining',\n",
              " 'fried',\n",
              " 'boring',\n",
              " 'passed',\n",
              " 'charming',\n",
              " 'ordered',\n",
              " 'toasted',\n",
              " 'untoasted',\n",
              " 'going',\n",
              " 'figured',\n",
              " 'making',\n",
              " 'pricing',\n",
              " 'considering',\n",
              " 'returned',\n",
              " 'amazing',\n",
              " 'eyed',\n",
              " 'disappointed',\n",
              " 'pleased',\n",
              " 'Everything',\n",
              " 'replenished',\n",
              " 'disappointed',\n",
              " 'nothing',\n",
              " 'nothing',\n",
              " 'driving',\n",
              " 'treated',\n",
              " 'during',\n",
              " 'evening',\n",
              " 'offered',\n",
              " 'Outstanding',\n",
              " 'tasted',\n",
              " 'buying',\n",
              " 'handling',\n",
              " 'wasting',\n",
              " 'craving',\n",
              " 'dropped',\n",
              " 'dining',\n",
              " 'decorated',\n",
              " 'interesting',\n",
              " 'amazing',\n",
              " 'being',\n",
              " 'served',\n",
              " 'outshining',\n",
              " 'starving',\n",
              " 'coming',\n",
              " 'walked',\n",
              " 'stuffed',\n",
              " 'considering',\n",
              " 'located',\n",
              " 'shopping',\n",
              " 'nothing',\n",
              " 'Cooked',\n",
              " 'disappointed',\n",
              " 'getting',\n",
              " 'screwed',\n",
              " 'frustrated',\n",
              " 'iced',\n",
              " 'stuffed',\n",
              " 'disappointed',\n",
              " 'trying',\n",
              " 'grossed',\n",
              " 'enjoyed',\n",
              " 'eating',\n",
              " 'going',\n",
              " 'looked',\n",
              " 'overwhelmed',\n",
              " 'stayed',\n",
              " 'everything',\n",
              " 'smeared',\n",
              " 'stepped',\n",
              " 'tracked',\n",
              " 'tried',\n",
              " 'rushed',\n",
              " 'loved',\n",
              " 'Ordered',\n",
              " 'Nothing',\n",
              " 'cooked',\n",
              " 'going',\n",
              " 'insulted',\n",
              " 'contained',\n",
              " 'enjoyed',\n",
              " 'relaxed',\n",
              " 'loved',\n",
              " 'outstanding',\n",
              " 'running',\n",
              " 'acknowledged',\n",
              " 'forgetting',\n",
              " 'upgrading',\n",
              " 'trimmed',\n",
              " 'cooked',\n",
              " 'claimed',\n",
              " 'handled',\n",
              " 'asked',\n",
              " 'eating',\n",
              " 'bring',\n",
              " 'hoping',\n",
              " 'living',\n",
              " 'limited',\n",
              " 'boiled',\n",
              " 'dining',\n",
              " 'liked',\n",
              " 'sliced',\n",
              " 'attached',\n",
              " 'humiliated',\n",
              " 'filling',\n",
              " 'fried',\n",
              " 'amazing',\n",
              " 'impressed',\n",
              " 'disappointed',\n",
              " 'priced',\n",
              " 'Everything',\n",
              " 'disappointed',\n",
              " 'thing',\n",
              " 'amazing',\n",
              " 'need',\n",
              " 'Everything',\n",
              " 'interesting',\n",
              " 'need',\n",
              " 'experienced',\n",
              " 'amazing',\n",
              " 'amazing',\n",
              " 'waited',\n",
              " 'seated',\n",
              " 'waiting',\n",
              " 'going',\n",
              " 'going',\n",
              " 'dining',\n",
              " 'decided',\n",
              " 'pleased',\n",
              " 'saving',\n",
              " 'something',\n",
              " 'trying',\n",
              " 'disgusting',\n",
              " 'hankering',\n",
              " 'recommended',\n",
              " 'being',\n",
              " 'helped',\n",
              " 'witnessed',\n",
              " 'Waited',\n",
              " 'waited',\n",
              " 'waited',\n",
              " 'checked',\n",
              " 'tasted',\n",
              " 'disappointed',\n",
              " 'being',\n",
              " 'served',\n",
              " 'rated',\n",
              " 'recommended',\n",
              " 'pulled',\n",
              " 'waited',\n",
              " 'being',\n",
              " 'acknowledged',\n",
              " 'setting',\n",
              " 'perpared',\n",
              " 'dusted',\n",
              " 'powdered',\n",
              " 'enjoyed',\n",
              " 'expanded',\n",
              " 'sitting',\n",
              " 'ended',\n",
              " 'waiting',\n",
              " 'arrived',\n",
              " 'satisfying',\n",
              " 'wanted',\n",
              " 'disappointed',\n",
              " 'eating',\n",
              " 'need',\n",
              " 'being',\n",
              " 'freaking',\n",
              " 'checked',\n",
              " 'impressed',\n",
              " 'reheated',\n",
              " 'getting',\n",
              " 'amazing',\n",
              " 'tasted',\n",
              " 'disappointing',\n",
              " 'grilled',\n",
              " 'seasoning',\n",
              " 'going',\n",
              " 'focused',\n",
              " 'roasted',\n",
              " 'asked',\n",
              " 'being',\n",
              " 'ignored',\n",
              " 'bring',\n",
              " 'letting',\n",
              " 'tasted',\n",
              " 'evening',\n",
              " 'Ordered',\n",
              " 'greeted',\n",
              " 'seated',\n",
              " 'Tried',\n",
              " 'waiting',\n",
              " 'being',\n",
              " 'seated',\n",
              " 'eating',\n",
              " 'going',\n",
              " 'Disappointed',\n",
              " 'ordered',\n",
              " 'constructed',\n",
              " 'seating',\n",
              " 'fried',\n",
              " 'playing',\n",
              " 'requested',\n",
              " 'amazing',\n",
              " 'staying',\n",
              " 'used',\n",
              " 'tasted',\n",
              " 'giving',\n",
              " 'talking',\n",
              " 'amazing',\n",
              " 'drenched',\n",
              " 'amazing',\n",
              " 'amazing',\n",
              " 'tried',\n",
              " 'walked',\n",
              " 'expected',\n",
              " 'amazing',\n",
              " 'disappointed',\n",
              " 'mortified',\n",
              " 'filling',\n",
              " 'dripping',\n",
              " 'impressed',\n",
              " 'going',\n",
              " 'serving',\n",
              " 'refrained',\n",
              " 'recommending',\n",
              " 'pleased',\n",
              " 'thing',\n",
              " 'reading',\n",
              " 'loved',\n",
              " 'grilled',\n",
              " 'reminded',\n",
              " 'seating',\n",
              " 'sucked',\n",
              " 'hooked',\n",
              " 'ordered',\n",
              " 'going',\n",
              " 'disappointed',\n",
              " 'everything',\n",
              " 'seasoned',\n",
              " 'thing',\n",
              " 'added',\n",
              " 'sitting',\n",
              " 'waiting',\n",
              " 'bring',\n",
              " 'revisiting',\n",
              " 'coming',\n",
              " 'touched',\n",
              " 'anything',\n",
              " 'fried',\n",
              " 'opened',\n",
              " 'impressed',\n",
              " 'feeling',\n",
              " 'during',\n",
              " 'watched',\n",
              " 'thing',\n",
              " 'being',\n",
              " 'Tasted',\n",
              " 'amazing',\n",
              " 'being',\n",
              " 'amazing',\n",
              " 'ordered',\n",
              " 'satifying',\n",
              " 'describing',\n",
              " 'coming',\n",
              " 'everything',\n",
              " 'received',\n",
              " 'Paying',\n",
              " 'going',\n",
              " 'impressed',\n",
              " 'overcooked',\n",
              " 'cooked',\n",
              " 'needed',\n",
              " 'served',\n",
              " 'thing',\n",
              " 'ordered',\n",
              " 'amazing',\n",
              " 'overpriced',\n",
              " 'packed',\n",
              " 'getting',\n",
              " 'opposed',\n",
              " 'cramming',\n",
              " 'priced',\n",
              " 'surprised',\n",
              " 'considering',\n",
              " 'focused',\n",
              " 'overpriced',\n",
              " 'fucking',\n",
              " 'tried',\n",
              " 'enjoyed',\n",
              " 'going',\n",
              " 'qualified',\n",
              " 'tasted',\n",
              " 'hated',\n",
              " 'appealing',\n",
              " 'getting',\n",
              " 'coming',\n",
              " 'watched',\n",
              " 'Everything',\n",
              " 'fried',\n",
              " 'dealing',\n",
              " 'everything',\n",
              " 'tried',\n",
              " 'something',\n",
              " 'during',\n",
              " 'helped',\n",
              " 'dining',\n",
              " 'cooking',\n",
              " 'dining',\n",
              " 'started',\n",
              " 'editing',\n",
              " 'highlighted',\n",
              " 'setting',\n",
              " 'used',\n",
              " 'amazing',\n",
              " 'enjoyed',\n",
              " 'ordered',\n",
              " 'tasted',\n",
              " 'asked',\n",
              " 'refused',\n",
              " 'tried',\n",
              " 'rotating',\n",
              " 'Pricing',\n",
              " 'toasted',\n",
              " 'satisfying',\n",
              " 'anticipated',\n",
              " 'disappointing',\n",
              " 'amazing',\n",
              " 'returning',\n",
              " 'unexperienced',\n",
              " 'running',\n",
              " 'insulted',\n",
              " 'disrespected',\n",
              " 'being',\n",
              " 'impressed',\n",
              " 'thing',\n",
              " 'puréed',\n",
              " 'nothing',\n",
              " 'poisoning',\n",
              " 'thinking',\n",
              " 'something',\n",
              " 'going',\n",
              " 'disgusting',\n",
              " 'caring',\n",
              " 'bring',\n",
              " 'asked',\n",
              " 'Disappointing',\n",
              " 'rated',\n",
              " 'saying',\n",
              " 'going',\n",
              " 'lacked',\n",
              " 'coming',\n",
              " 'sliced',\n",
              " 'pulled',\n",
              " 'building',\n",
              " 'seating',\n",
              " 'undercooked',\n",
              " 'dipping',\n",
              " 'seemed',\n",
              " 'watered',\n",
              " 'lacked',\n",
              " 'disappointed',\n",
              " 'overpriced',\n",
              " 'setting',\n",
              " 'ensued',\n",
              " 'anything',\n",
              " 'drinking',\n",
              " 'serving',\n",
              " 'disappointed',\n",
              " 'placed',\n",
              " 'avoided',\n",
              " 'received',\n",
              " 'wanted',\n",
              " 'doing',\n",
              " 'sucked',\n",
              " 'happened',\n",
              " 'putting',\n",
              " 'owned',\n",
              " 'wanted',\n",
              " 'Overpriced',\n",
              " 'getting',\n",
              " 'vomited',\n",
              " 'looking',\n",
              " 'started',\n",
              " 'coming',\n",
              " 'unwrapped',\n",
              " 'lacked',\n",
              " 'seemed',\n",
              " 'undercooked',\n",
              " 'closed',\n",
              " 'staying',\n",
              " 'refried',\n",
              " 'dried',\n",
              " 'disappointed',\n",
              " 'lacking',\n",
              " 'impressed',\n",
              " 'underwhelming',\n",
              " 'wasted',\n",
              " 'poured',\n",
              " 'drawing',\n",
              " 'bring']"
            ]
          },
          "metadata": {},
          "execution_count": 25
        }
      ]
    },
    {
      "cell_type": "code",
      "source": [
        "len(docs12)"
      ],
      "metadata": {
        "id": "AhGq6De2Mvyh",
        "colab": {
          "base_uri": "https://localhost:8080/"
        },
        "outputId": "deced456-cd89-4a0d-bf55-90aac162b7e9"
      },
      "execution_count": null,
      "outputs": [
        {
          "output_type": "execute_result",
          "data": {
            "text/plain": [
              "614"
            ]
          },
          "metadata": {},
          "execution_count": 26
        }
      ]
    },
    {
      "cell_type": "markdown",
      "source": [
        "#**Parte 3. Proceso de limpieza.**"
      ],
      "metadata": {
        "id": "70StdqAZa9E9"
      }
    },
    {
      "cell_type": "markdown",
      "source": [
        "*   **Pregunta 13.**  \n",
        "\n",
        "Ahora realiza un proceso de limpieza del corpus que incluya los siguientes procesos:\n",
        "\n",
        "*   Solo se deben considerar caracteres alfabéticos. Es decir, se eliminan todos los signos de puntuación y caracteres especiales.\n",
        "*   Todos los caracteres alfabéticos se transforman a minúsculas.\n",
        "*   Se deben eliminar todos los espacios en blanco adicionales que se puedan encontrar en cada comentario.\n",
        "\n",
        "Al finalizar dicho proceso de limpieza, imprime el resultado de los primeros 10 comentarios resultantes.\n",
        "   \n",
        "\n",
        "\n"
      ],
      "metadata": {
        "id": "xaDUFXHrMvX2"
      }
    },
    {
      "cell_type": "code",
      "source": [
        "docs13=[re.sub(r'[^a-zA-Z\\s]', '', n).lower() for n in docs1]\n",
        "docs13=[re.sub(r'\\s+', ' ', n).strip() for n in docs13]\n",
        "len(docs13)"
      ],
      "metadata": {
        "id": "K3kQzPOPMx0w",
        "colab": {
          "base_uri": "https://localhost:8080/"
        },
        "outputId": "836e06a9-ca33-45e6-e3b4-46eef8b93d42"
      },
      "execution_count": null,
      "outputs": [
        {
          "output_type": "execute_result",
          "data": {
            "text/plain": [
              "1000"
            ]
          },
          "metadata": {},
          "execution_count": 40
        }
      ]
    },
    {
      "cell_type": "code",
      "source": [
        "docs13[0:10]"
      ],
      "metadata": {
        "id": "mYEDlHSFMyJN",
        "colab": {
          "base_uri": "https://localhost:8080/"
        },
        "outputId": "d3c5cae9-8073-44d0-b602-0b643fe87b68"
      },
      "execution_count": null,
      "outputs": [
        {
          "output_type": "execute_result",
          "data": {
            "text/plain": [
              "['wow loved this place',\n",
              " 'crust is not good',\n",
              " 'not tasty and the texture was just nasty',\n",
              " 'stopped by during the late may bank holiday off rick steve recommendation and loved it',\n",
              " 'the selection on the menu was great and so were the prices',\n",
              " 'now i am getting angry and i want my damn pho',\n",
              " 'honeslty it didnt taste that fresh',\n",
              " 'the potatoes were like rubber and you could tell they had been made up ahead of time being kept under a warmer',\n",
              " 'the fries were great too',\n",
              " 'a great touch']"
            ]
          },
          "metadata": {},
          "execution_count": 41
        }
      ]
    },
    {
      "cell_type": "markdown",
      "source": [
        "*   **Pregunta 14.**  \n",
        "\n",
        "Con el resultado de la limpieza obtenido en la pregunta anterior, realiza ahora un proceso de tokenización por palabras del corpus.\n",
        "\n",
        "Es decir, al final de este proceso de tokenización, debes tener como resultado una lista de listas, donde cada comentario estará tokenizado por palabras.\n",
        "\n",
        "Al terminar calcula el total de tokens obtenido en todo el corpus."
      ],
      "metadata": {
        "id": "WZwEhg2lUSAX"
      }
    },
    {
      "cell_type": "code",
      "source": [
        "docs14=[re.split(\"\\s\", n) for n in docs13]\n",
        "docs14=[item for sublist in docs14 for item in sublist]\n",
        "docs14[0:100]"
      ],
      "metadata": {
        "id": "kbAL9-v0V-jx",
        "colab": {
          "base_uri": "https://localhost:8080/"
        },
        "outputId": "2a2e9b2c-0ea7-461a-fc58-18b5e247e7b3"
      },
      "execution_count": null,
      "outputs": [
        {
          "output_type": "execute_result",
          "data": {
            "text/plain": [
              "['wow',\n",
              " 'loved',\n",
              " 'this',\n",
              " 'place',\n",
              " 'crust',\n",
              " 'is',\n",
              " 'not',\n",
              " 'good',\n",
              " 'not',\n",
              " 'tasty',\n",
              " 'and',\n",
              " 'the',\n",
              " 'texture',\n",
              " 'was',\n",
              " 'just',\n",
              " 'nasty',\n",
              " 'stopped',\n",
              " 'by',\n",
              " 'during',\n",
              " 'the',\n",
              " 'late',\n",
              " 'may',\n",
              " 'bank',\n",
              " 'holiday',\n",
              " 'off',\n",
              " 'rick',\n",
              " 'steve',\n",
              " 'recommendation',\n",
              " 'and',\n",
              " 'loved',\n",
              " 'it',\n",
              " 'the',\n",
              " 'selection',\n",
              " 'on',\n",
              " 'the',\n",
              " 'menu',\n",
              " 'was',\n",
              " 'great',\n",
              " 'and',\n",
              " 'so',\n",
              " 'were',\n",
              " 'the',\n",
              " 'prices',\n",
              " 'now',\n",
              " 'i',\n",
              " 'am',\n",
              " 'getting',\n",
              " 'angry',\n",
              " 'and',\n",
              " 'i',\n",
              " 'want',\n",
              " 'my',\n",
              " 'damn',\n",
              " 'pho',\n",
              " 'honeslty',\n",
              " 'it',\n",
              " 'didnt',\n",
              " 'taste',\n",
              " 'that',\n",
              " 'fresh',\n",
              " 'the',\n",
              " 'potatoes',\n",
              " 'were',\n",
              " 'like',\n",
              " 'rubber',\n",
              " 'and',\n",
              " 'you',\n",
              " 'could',\n",
              " 'tell',\n",
              " 'they',\n",
              " 'had',\n",
              " 'been',\n",
              " 'made',\n",
              " 'up',\n",
              " 'ahead',\n",
              " 'of',\n",
              " 'time',\n",
              " 'being',\n",
              " 'kept',\n",
              " 'under',\n",
              " 'a',\n",
              " 'warmer',\n",
              " 'the',\n",
              " 'fries',\n",
              " 'were',\n",
              " 'great',\n",
              " 'too',\n",
              " 'a',\n",
              " 'great',\n",
              " 'touch',\n",
              " 'service',\n",
              " 'was',\n",
              " 'very',\n",
              " 'prompt',\n",
              " 'would',\n",
              " 'not',\n",
              " 'go',\n",
              " 'back',\n",
              " 'the',\n",
              " 'cashier']"
            ]
          },
          "metadata": {},
          "execution_count": 42
        }
      ]
    },
    {
      "cell_type": "code",
      "source": [
        "len(docs14)"
      ],
      "metadata": {
        "id": "DZs_etmiV-fd",
        "colab": {
          "base_uri": "https://localhost:8080/"
        },
        "outputId": "2f704b7c-346c-46da-b1a4-5afe7cdc22dd"
      },
      "execution_count": null,
      "outputs": [
        {
          "output_type": "execute_result",
          "data": {
            "text/plain": [
              "10777"
            ]
          },
          "metadata": {},
          "execution_count": 43
        }
      ]
    },
    {
      "cell_type": "markdown",
      "source": [
        "*   **Pregunta 15.**  \n",
        "\n",
        "Finalmente, en este ejercicio definiremos nuestro conjunto de palabras \"stopwords\", las cuales deberás eliminar de todo el corpus.\n",
        "\n",
        "Recuerda que ejemplos de stopwords son artículos, adverbios, conectivos, etcétera, que tienen frecuencias de aparición muy altas en cualquier documento, pero que no brindan mucho significado en cuanto al significado de un enunciado.\n",
        "\n",
        "Con base a la lista de stopwords que se te proporciona, realiza un proceso de limpieza eliminando todas estas palabras del corpus obtenido en el ejercicio anterior.\n",
        "\n",
        "Obtener cuántos tokens/palabras quedan finalmente en todo el corpus.\n",
        "\n",
        "Obtener cuántos de estos tokens/palabras son diferentes, es decir, cuántos tokens únicos tendrá lo que llamaremos más adelante nuestro vocabulario."
      ],
      "metadata": {
        "id": "EFeu0OJ7WDPD"
      }
    },
    {
      "cell_type": "code",
      "source": [
        "# Considera la siguiente lista como tu conjunto de stopwords:\n",
        "mis_stopwords = ['i', 'me', 'my', 'myself', 'we', 'our', 'ours', 'ourselves', 'you', 'your', 'yours', 'he', 'him', 'his', 'himself', 'she', 'her', 'hers', 'herself', 'it', 'its', 'itself', 'they', 'them', 'their', 'theirs', 'themselves', 'what', 'which', 'who', 'whom', 'this', 'that', 'these', 'those', 'am', 'is', 'are', 'was', 'were', 'be', 'been', 'being', 'have', 'has', 'had', 'having', 'do', 'does', 'did', 'doing', 'a', 'an', 'the', 'and', 'but', 'if', 'or', 'because', 'as', 'until', 'while', 'of', 'at', 'by', 'for', 'with', 'about', 'against', 'between', 'into', 'through', 'during', 'before', 'after', 'above', 'below', 'to', 'from', 'up', 'down', 'in', 'out', 'on', 'over', 'under', 'again', 'further', 'then', 'once', 'here', 'there', 'when', 'where', 'why', 'how', 'all', 'any', 'both', 'each', 'few', 'more', 'most', 'other', 'some', 'such', 'only', 'own', 'same', 'so', 'than', 'too', 'very', 's', 't', 'can', 'will', 'just', 'should', 'now', 'll']"
      ],
      "metadata": {
        "id": "6FP4FF3KXGxm"
      },
      "execution_count": null,
      "outputs": []
    },
    {
      "cell_type": "code",
      "source": [
        "docs15=[token for token in docs14 if token not in mis_stopwords]\n",
        "len(docs15)"
      ],
      "metadata": {
        "id": "CD8yjyq1ZrwY",
        "colab": {
          "base_uri": "https://localhost:8080/"
        },
        "outputId": "3bea2171-c5aa-4632-f89c-4dd28d9ad137"
      },
      "execution_count": null,
      "outputs": [
        {
          "output_type": "execute_result",
          "data": {
            "text/plain": [
              "5776"
            ]
          },
          "metadata": {},
          "execution_count": 45
        }
      ]
    },
    {
      "cell_type": "code",
      "source": [
        "vocabulary = set(docs15)\n",
        "print('Nuestro vocabulario tiene un total de', len(vocabulary), 'de palabras únicas')"
      ],
      "metadata": {
        "id": "4ZPi5prKZro5",
        "colab": {
          "base_uri": "https://localhost:8080/"
        },
        "outputId": "2c495b3f-adc9-4e1b-babd-367808fc0027"
      },
      "execution_count": null,
      "outputs": [
        {
          "output_type": "stream",
          "name": "stdout",
          "text": [
            "Nuestro vocabulario tiene un total de 1941 de palabras únicas\n"
          ]
        }
      ]
    },
    {
      "cell_type": "markdown",
      "source": [
        "*   **Comentarios**\n",
        "\n",
        "Incluye finalmente tus comentarios de la actividad."
      ],
      "metadata": {
        "id": "NDbKkuxRbLoX"
      }
    },
    {
      "cell_type": "markdown",
      "source": [
        "## Conclusión\n",
        "\n",
        "En estra primera actividad, hemos llevado a cabo una serie de procesos esenciales para la limpieza y preparación de un corpus textual, que es fundamental para cualquier tarea de procesamiento de lenguaje natural. Los pasos realizados incluyeron la eliminación de caracteres no alfabéticos, la transformación de todos los caracteres a minúsculas, y la eliminación de espacios en blanco adicionales. Además, hemos eliminado palabras comúnmente conocidas como \"stopwords\", las cuales suelen aportar poco significado al contenido semántico de los textos.\n",
        "\n",
        "A través de estos procesos, hemos logrado refinamientos significativos del texto que nos permiten concentrarnos en el contenido más relevante para análisis posteriores. El resultado final del corpus muestra una reducción en la cantidad de palabras totales y una lista más manejable de palabras únicas, lo cual es crucial para la creación de modelos de lenguaje eficientes y efectivos.\n",
        "\n",
        "Este trabajo no solo mejora la calidad del corpus para tareas de NLP, sino que también establece una base sólida para futuras investigaciones y aplicaciones, como el análisis de sentimientos, la clasificación de texto, y sistemas de recomendación, entre otros. La habilidad para limpiar y preparar adecuadamente los datos textuales es una habilidad invaluable en la era del big data y la inteligencia artificial.\n",
        "\n",
        "En resumen, la preparación adecuada del texto es un paso crítico que impacta directamente en la eficacia y eficiencia de casi todos los sistemas de procesamiento de lenguaje natural. Con el corpus ahora limpio y preparado, estamos listos para avanzar hacia análisis más complejos y la implementación de modelos más sofisticados.\n"
      ],
      "metadata": {
        "id": "o7fzbvqVbUGr"
      }
    },
    {
      "cell_type": "markdown",
      "source": [
        "##**Fin de la Actividad de la semana 2.**"
      ],
      "metadata": {
        "id": "PHaKw_6Ldbaf"
      }
    }
  ]
}