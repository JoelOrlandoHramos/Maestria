{
  "cells": [
    {
      "cell_type": "markdown",
      "id": "940c6dbc",
      "metadata": {
        "id": "940c6dbc",
        "pycharm": {
          "name": "#%% md\n"
        }
      },
      "source": [
        "# **Master of Applied Artificial Intelligence**\n",
        "## **Course: Advanced Machine Learning Methods**\n",
        "### Tecnológico de Monterrey\n",
        "### Prof José Antonio Cantoral Ceballos, Ph.D.\n",
        "\n",
        "# TC 5033\n",
        "## Word Embeddings\n",
        "\n",
        "## **Activity 3b**\n",
        "### **Text Classification using RNNs and AG_NEWS dataset in PyTorch**\n",
        "\n",
        "## Group 2\n",
        "\n",
        "### Juan Alfonso Vásquez Chapoi           A00820656\n",
        "\n",
        "### Joel Orlando Hernández Ramos        A00759664\n",
        "\n",
        "### Gerardo Aaron Castañeda Jaramillo A01137646\n",
        "\n",
        "- Objective:\n",
        "    - Understand the basics of Recurrent Neural Networks (RNNs) and their application in text classification.\n",
        "    - Learn how to handle a real-world text dataset, AG_NEWS, in PyTorch.\n",
        "    - Gain hands-on experience in defining, training, and evaluating a text classification model in PyTorch.\n",
        "    \n",
        "<br>\n",
        "\n",
        "- Instructions:\n",
        "    - Data Preparation: Starter code will be provided that loads the AG_NEWS dataset and prepares it for training. Do not modify this part. However, you should be sure to understand it, and comment it, the use of markdown cells is suggested.\n",
        "\n",
        "    - Model Setup: A skeleton code for the RNN model class will be provided. Complete this class and use it to instantiate your model.\n",
        "\n",
        "    - Implementing Accuracy Function: Write a function that takes model predictions and ground truth labels as input and returns the model's accuracy.\n",
        "\n",
        "    - Training Function: Implement a function that performs training on the given model using the AG_NEWS dataset. Your model should achieve an accuracy of at least 80% to get full marks for this part.\n",
        "\n",
        "    - Text Sampling: Write a function that takes a sample text as input and classifies it using your trained model.\n",
        "\n",
        "    - Confusion Matrix: Implement a function to display the confusion matrix for your model on the test data.\n",
        "\n",
        "    - Submission: Submit your completed Jupyter Notebook. Make sure to include a markdown cell at the beginning of the notebook that lists the names of all team members. Teams should consist of 3 to 4 members.\n",
        "    \n",
        "<br>\n",
        "\n",
        "- Evaluation Criteria:\n",
        "\n",
        "    - Correct setup of all the required libraries and modules (10%)\n",
        "    - Code Quality (30%): Your code should be well-organized, clearly commented, and easy to follow. Use also markdown cells for clarity. Comments should be given for all the provided code, this will help you understand its functionality.\n",
        "    \n",
        "   - Functionality (60%):\n",
        "        - All the functions should execute without errors and provide the expected outputs.\n",
        "        - RNN model class (20%)\n",
        "        - Accuracy fucntion (10%)\n",
        "        - Training function (10%)\n",
        "        - Sampling function (10%)\n",
        "        - Confusion matrix (10%)\n",
        "\n",
        "        - The model should achieve at least an 80% accuracy on the AG_NEWS test set for full marks in this criterion.\n"
      ]
    },
    {
      "cell_type": "markdown",
      "id": "4de318da",
      "metadata": {
        "id": "4de318da",
        "pycharm": {
          "name": "#%% md\n"
        }
      },
      "source": [
        "Dataset\n",
        "\n",
        "https://pytorch.org/text/stable/datasets.html#text-classification\n",
        "\n",
        "https://paperswithcode.com/dataset/ag-news\n"
      ]
    },
    {
      "cell_type": "markdown",
      "id": "4a9801f9",
      "metadata": {
        "id": "4a9801f9",
        "pycharm": {
          "name": "#%% md\n"
        }
      },
      "source": [
        "### Import libraries"
      ]
    },
    {
      "cell_type": "markdown",
      "id": "6dff18cf",
      "metadata": {
        "id": "6dff18cf",
        "pycharm": {
          "name": "#%% md\n"
        }
      },
      "source": [
        "In case the modules are not installed, we install the following in conda:"
      ]
    },
    {
      "cell_type": "code",
      "execution_count": null,
      "id": "54394f53",
      "metadata": {
        "id": "54394f53",
        "pycharm": {
          "name": "#%%\n"
        }
      },
      "outputs": [],
      "source": [
        "# conda install -c pytorch torchtext\n",
        "# conda install -c pytorch torchdata\n",
        "# conda install pytorch torchvision torchaudio cudatoolkit=10.2 -c pytorch"
      ]
    },
    {
      "cell_type": "markdown",
      "id": "f24e63a0",
      "metadata": {
        "id": "f24e63a0",
        "pycharm": {
          "name": "#%% md\n"
        }
      },
      "source": [
        "We start importing the necessary libraries and modules for this activity, this includes numpy, torch, torchvision, scikitplot, torchtext. As well as some additional modules which allow us to work with datasets of PyTorch and apply transformation to them.\n",
        "\n",
        "We make sure we have the following packages"
      ]
    },
    {
      "cell_type": "code",
      "execution_count": null,
      "id": "878b524f",
      "metadata": {
        "id": "878b524f",
        "pycharm": {
          "name": "#%%\n"
        }
      },
      "outputs": [],
      "source": [
        "# The following libraries are required for running the given code\n",
        "# Please feel free to add any libraries you consider adecuate to complete the assingment.\n",
        "import numpy as np\n",
        "#PyTorch libraries\n",
        "import torch\n",
        "from torchtext.datasets import AG_NEWS\n",
        "# Dataloader library\n",
        "from torch.utils.data import DataLoader\n",
        "from torch.utils.data.dataset import random_split\n",
        "# Libraries to prepare the data\n",
        "from torchtext.data.utils import get_tokenizer\n",
        "from torchtext.vocab import build_vocab_from_iterator\n",
        "from torchtext.data.functional import to_map_style_dataset\n",
        "# neural layers\n",
        "from torch import nn\n",
        "from torch.nn import functional as F\n",
        "\n",
        "# These libraries are suggested to plot confusion matrix\n",
        "# you may use others\n",
        "import scikitplot as skplt\n",
        "import gc\n",
        "\n",
        "import time\n",
        "import matplotlib.pyplot as plt\n",
        "import random\n",
        "\n",
        "from sklearn.metrics import confusion_matrix\n",
        "import seaborn as sn\n",
        "import pandas as pd"
      ]
    },
    {
      "cell_type": "markdown",
      "id": "e7e1be94",
      "metadata": {
        "id": "e7e1be94",
        "pycharm": {
          "name": "#%% md\n"
        }
      },
      "source": [
        "Prepare code to use CUDA if available, otherwise keep using CPU"
      ]
    },
    {
      "cell_type": "code",
      "execution_count": null,
      "id": "3bab55f3",
      "metadata": {
        "id": "3bab55f3",
        "outputId": "c1a5e92d-26f3-46e6-9fc9-cbd67f49a654",
        "pycharm": {
          "name": "#%%\n"
        }
      },
      "outputs": [
        {
          "name": "stdout",
          "output_type": "stream",
          "text": [
            "cuda\n"
          ]
        }
      ],
      "source": [
        "# Use GPU if available\n",
        "device = torch.device(\"cuda\" if torch.cuda.is_available() else \"cpu\")\n",
        "print(device)"
      ]
    },
    {
      "cell_type": "markdown",
      "id": "3d38956d",
      "metadata": {
        "id": "3d38956d",
        "pycharm": {
          "name": "#%% md\n"
        }
      },
      "source": [
        "### Get the train and the test datasets and dataloaders"
      ]
    },
    {
      "cell_type": "markdown",
      "id": "e9c6b784",
      "metadata": {
        "id": "e9c6b784",
        "pycharm": {
          "name": "#%% md\n"
        }
      },
      "source": [
        "For the classes in the dataset:\n",
        "\n",
        "Classes:\n",
        "\n",
        "* 1 - World\n",
        "\n",
        "* 2 - Sports\n",
        "\n",
        "* 3 - Business\n",
        "\n",
        "* 4 - Sci/Tech\n",
        "\n",
        "We will convert them to:\n",
        "\n",
        "* 0 - World\n",
        "\n",
        "* 1 - Sports\n",
        "\n",
        "* 2 - Business\n",
        "\n",
        "* 3 - Sci/Tech"
      ]
    },
    {
      "cell_type": "markdown",
      "id": "b00f4bc2",
      "metadata": {
        "id": "b00f4bc2",
        "pycharm": {
          "name": "#%% md\n"
        }
      },
      "source": [
        "We import the train_dataset and test_dataset from the AG_NEWS() object, included in the torchtext.datasets module Then we apply the to_map_style_dataset function (object) which allows us to unpack the iterator which holds the train and test data, allowing us to access all the data at once through indices."
      ]
    },
    {
      "cell_type": "code",
      "execution_count": null,
      "id": "49fbed19",
      "metadata": {
        "id": "49fbed19",
        "pycharm": {
          "name": "#%%\n"
        }
      },
      "outputs": [],
      "source": [
        "train_dataset, test_dataset = AG_NEWS()                                                               #load to variables\n",
        "train_dataset, test_dataset = to_map_style_dataset(train_dataset), to_map_style_dataset(test_dataset) #convert to map-style"
      ]
    },
    {
      "cell_type": "markdown",
      "id": "19baa9b4",
      "metadata": {
        "id": "19baa9b4",
        "pycharm": {
          "name": "#%% md\n"
        }
      },
      "source": [
        "Lets see the first element in the train_dataset"
      ]
    },
    {
      "cell_type": "code",
      "execution_count": null,
      "id": "09df667a",
      "metadata": {
        "id": "09df667a",
        "outputId": "13ae09c4-a742-4dde-9953-b8918d9c3e47",
        "pycharm": {
          "name": "#%%\n"
        }
      },
      "outputs": [
        {
          "data": {
            "text/plain": [
              "(3,\n",
              " \"Wall St. Bears Claw Back Into the Black (Reuters) Reuters - Short-sellers, Wall Street's dwindling\\\\band of ultra-cynics, are seeing green again.\")"
            ]
          },
          "execution_count": 5,
          "metadata": {},
          "output_type": "execute_result"
        }
      ],
      "source": [
        "train_dataset[0]"
      ]
    },
    {
      "cell_type": "markdown",
      "id": "396bc419",
      "metadata": {
        "id": "396bc419",
        "pycharm": {
          "name": "#%% md\n"
        }
      },
      "source": [
        "We see that the shape of the data is a tuple of form (label, text)\n",
        "\n",
        "We define a tokeniser object with the get_tokenizer function from the torchtext.data.utils module with the argument \"basic_english\" so that we apply that specific set of rules over the comments in the AG_News files to reduce the amount of possible tokens in the vocabulary.\n",
        "\n",
        "We then define an interator named yield_tokens that makes use of the tokeniser object and we make sure only to enter the text from the comments (and not the labels)"
      ]
    },
    {
      "cell_type": "code",
      "execution_count": null,
      "id": "9c372eb9",
      "metadata": {
        "id": "9c372eb9",
        "pycharm": {
          "name": "#%%\n"
        }
      },
      "outputs": [],
      "source": [
        "# Get the tokenizer\n",
        "tokeniser = get_tokenizer('basic_english')\n",
        "\n",
        "def yield_tokens(data):\n",
        "    for _, text in data:             # obtain the text from the data\n",
        "        yield tokeniser(text)        # tokenize it"
      ]
    },
    {
      "cell_type": "markdown",
      "id": "6a4aff2f",
      "metadata": {
        "id": "6a4aff2f",
        "pycharm": {
          "name": "#%% md\n"
        }
      },
      "source": [
        "We then proceed to create our vocabulary using the build_vocab_from_iterator function from the torchtext.vocab module. we make use to use the specials flag for weird tokens to be set to <𝑢𝑛𝑘> from unknown.\n",
        "\n",
        "The vocabulary is a mapping of token strings to unique integers. in the second line of code, by setting the default index to the index of  <𝑢𝑛𝑘>, we ensure that when we look up a token that is not in the vocabulary, we get the index of  <𝑢𝑛𝑘> instead of an error. This is crucial for handling out-of-vocabulary words gracefully when processing text data."
      ]
    },
    {
      "cell_type": "code",
      "execution_count": null,
      "id": "794d0375",
      "metadata": {
        "id": "794d0375",
        "pycharm": {
          "name": "#%%\n"
        }
      },
      "outputs": [],
      "source": [
        "# Build the vocabulary\n",
        "vocab = build_vocab_from_iterator(yield_tokens(train_dataset), specials=[\"<unk>\"])\n",
        "#set unknown token at position 0\n",
        "vocab.set_default_index(vocab[\"<unk>\"])"
      ]
    },
    {
      "cell_type": "markdown",
      "id": "0aaea3cd",
      "metadata": {
        "id": "0aaea3cd",
        "pycharm": {
          "name": "#%% md\n"
        }
      },
      "source": [
        "We test our tokens and vocabulary, it is important to know that we will use both since the tokeniser is used to \"tokenize\" new data, while the vocab is used to get the indices of the matching tokens, in case a new token (not in vocab) is looked for, the 0 index is returned."
      ]
    },
    {
      "cell_type": "code",
      "execution_count": null,
      "id": "b48268d4",
      "metadata": {
        "id": "b48268d4",
        "outputId": "91b81a85-621f-4977-93d4-173125cce9f9",
        "pycharm": {
          "name": "#%%\n"
        }
      },
      "outputs": [
        {
          "name": "stdout",
          "output_type": "stream",
          "text": [
            "['welcome', 'to', 'te3007'] [3314, 4, 0]\n"
          ]
        }
      ],
      "source": [
        "tokens = tokeniser('Welcome to TE3007')  # tokenize the sentence\n",
        "print(tokens, vocab(tokens))             # print the tokens, and their indexes"
      ]
    },
    {
      "cell_type": "markdown",
      "id": "361427f2",
      "metadata": {
        "id": "361427f2",
        "pycharm": {
          "name": "#%% md\n"
        }
      },
      "source": [
        "We create two constants specifing that 90% of the train data is going to be used for training and the remaining 10% is used as validation data"
      ]
    },
    {
      "cell_type": "code",
      "execution_count": null,
      "id": "c8c8f6a6",
      "metadata": {
        "id": "c8c8f6a6",
        "pycharm": {
          "name": "#%%\n"
        }
      },
      "outputs": [],
      "source": [
        "NUM_TRAIN = int(len(train_dataset)*0.9)\n",
        "NUM_VAL = len(train_dataset) - NUM_TRAIN"
      ]
    },
    {
      "cell_type": "markdown",
      "id": "8aeca95d",
      "metadata": {
        "id": "8aeca95d",
        "pycharm": {
          "name": "#%% md\n"
        }
      },
      "source": [
        "We make use of the random_split function imported from the torch.utils.data.dataset module"
      ]
    },
    {
      "cell_type": "code",
      "execution_count": null,
      "id": "8290895e",
      "metadata": {
        "id": "8290895e",
        "pycharm": {
          "name": "#%%\n"
        }
      },
      "outputs": [],
      "source": [
        "train_dataset, val_dataset = random_split(train_dataset, [NUM_TRAIN, NUM_VAL])"
      ]
    },
    {
      "cell_type": "markdown",
      "id": "8ab48740",
      "metadata": {
        "id": "8ab48740",
        "pycharm": {
          "name": "#%% md\n"
        }
      },
      "source": [
        "We check the number of samples in each dataset (train, val and test)"
      ]
    },
    {
      "cell_type": "code",
      "execution_count": null,
      "id": "cbc75b54",
      "metadata": {
        "id": "cbc75b54",
        "outputId": "585c0804-a3a7-4660-be60-d7e3d8707a7a",
        "pycharm": {
          "name": "#%%\n"
        }
      },
      "outputs": [
        {
          "name": "stdout",
          "output_type": "stream",
          "text": [
            "Train: 108000 Validation: 12000 Test: 7600\n"
          ]
        }
      ],
      "source": [
        "print('Train:', len(train_dataset), 'Validation:', len(val_dataset), 'Test:', len(test_dataset))"
      ]
    },
    {
      "cell_type": "markdown",
      "id": "9890be6a",
      "metadata": {
        "id": "9890be6a",
        "pycharm": {
          "name": "#%% md\n"
        }
      },
      "source": [
        "The following function is a complex one, we will create a special function that works with each batch of data and then process it so that we get the first two lists, one for labels and another for tokens. This is done for each sentence, so at the end, each element in both lists is going to be related to a specific review. To ensure all reviews are from the same dimension (while entering the data through the neural network) we make sure that the number of elements always matches a specific max_tokens variable. In case a review has fewer tokens than the max, 0s are padding to the end of the review and in case the review has more than the max_tokens value, the number of tokens is truncated up to this max_tokens number.\n",
        "\n",
        "Afterward, we return both tensors, one for the \" 𝑛\n",
        " \" number of reviews, each with an \" 𝑚\n",
        " \" amount of max_tokens; and another tensor with the labels, ensuring the labels go from the range between 1-4 to the range between 0-3."
      ]
    },
    {
      "cell_type": "markdown",
      "id": "31dac20e",
      "metadata": {
        "id": "31dac20e",
        "pycharm": {
          "name": "#%% md\n"
        }
      },
      "source": [
        "We need a function to process the data from the batches of the datasets. Similar to a pipeline. This function will be passed to the DataLoader."
      ]
    },
    {
      "cell_type": "code",
      "execution_count": null,
      "id": "ffdbf077",
      "metadata": {
        "id": "ffdbf077",
        "pycharm": {
          "name": "#%%\n"
        }
      },
      "outputs": [],
      "source": [
        "# function passed to the DataLoader to process a batch of data as indicated\n",
        "def collate_batch(batch):\n",
        "    \"\"\"\n",
        "    Return batch information in the desired output.\n",
        "    Either padd or limit X size to max_tokens size\n",
        "\n",
        "    Args:\n",
        "    - batch: the batch of data with Xs and ys information.\n",
        "\n",
        "    Returns:\n",
        "    - torch.tensor: Tensor with X data of dtype int32\n",
        "    - torch.tensor: Tensor with y data of dtype int32 (substracting 1 to each number)\n",
        "    \"\"\"\n",
        "    # Get label and text\n",
        "    y, x = list(zip(*batch))                                        # batch has form (label, tokens), when unpacking and then ziping two lists are returned\n",
        "                                                                    # each with the element-wise corresponding value for labels and tokens\n",
        "    # Create list with indices from tokeniser\n",
        "    x = [vocab(tokeniser(text)) for text in x]                      # A vocabulary is made for all tokens in text, for all texts in batch\n",
        "    x = [t + ([0]*(max_tokens - len(t))) if len(t) < max_tokens else t[:max_tokens] for t in x] # if tokens < max_tokens: tokens + ([0]*(max_tokens - len(tokens))\n",
        "                                                                                                # else: tokens[:max_tokens] for token in indexes(from vocab)\n",
        "                                                                                                # for the corresponding review being selected\n",
        "    # Prepare the labels, by subtracting 1 to get them in the range 0-3\n",
        "    return torch.tensor(x, dtype=torch.int32), torch.tensor(y, dtype=torch.int32) - 1           # tensors are returned with tokens and labels (range 0-3)"
      ]
    },
    {
      "cell_type": "markdown",
      "id": "648ad438",
      "metadata": {
        "id": "648ad438",
        "pycharm": {
          "name": "#%% md\n"
        }
      },
      "source": [
        "We define our maximum number of tokens as 50, while our batch size as 32."
      ]
    },
    {
      "cell_type": "code",
      "execution_count": null,
      "id": "5eb459c7",
      "metadata": {
        "id": "5eb459c7",
        "pycharm": {
          "name": "#%%\n"
        }
      },
      "outputs": [],
      "source": [
        "labels =  [\"World\", \"Sports\", \"Business\", \"Sci/Tech\"]\n",
        "max_tokens = 50\n",
        "BATCH_SIZE = 32"
      ]
    },
    {
      "cell_type": "markdown",
      "id": "894f3812",
      "metadata": {
        "id": "894f3812",
        "pycharm": {
          "name": "#%% md\n"
        }
      },
      "source": [
        "The DataLoader objects are created considering batch_size, the collate function and a shuffle flag"
      ]
    },
    {
      "cell_type": "code",
      "execution_count": null,
      "id": "0a55e6ee",
      "metadata": {
        "id": "0a55e6ee",
        "pycharm": {
          "name": "#%%\n"
        }
      },
      "outputs": [],
      "source": [
        "train_loader = DataLoader(train_dataset, batch_size=BATCH_SIZE, collate_fn=collate_batch, shuffle = True)\n",
        "val_loader = DataLoader(val_dataset, batch_size=BATCH_SIZE, collate_fn=collate_batch, shuffle = True)\n",
        "test_loader = DataLoader(test_dataset, batch_size=BATCH_SIZE, collate_fn=collate_batch, shuffle = True)"
      ]
    },
    {
      "cell_type": "markdown",
      "id": "47b98898",
      "metadata": {
        "id": "47b98898",
        "pycharm": {
          "name": "#%% md\n"
        }
      },
      "source": [
        "### Let us build our RNN model"
      ]
    },
    {
      "cell_type": "markdown",
      "id": "9a721c07",
      "metadata": {
        "id": "9a721c07",
        "pycharm": {
          "name": "#%% md\n"
        }
      },
      "source": [
        "For this part, we will consider the embedding_size variable, number of neurons per layer, number of layers, and number of output classes.\n",
        "\n",
        "Before going forward we would like to explain the concept of \"Embeddings\" in this case. In Activity 3a we worked with a file already with words and embeddings, these embeddings were calculated via a neural network trained on a large corpus of text from Wikipedia; in this case, we are not going to use the embeddings from that training data, we are going to get them with this specific training data.\n",
        "\n",
        "This is done via the neural network and the amount of neurons present in the embeddings layer. Through the training process this layer with weights of dimension (𝑏𝑎𝑡𝑐ℎ𝑠𝑖𝑧𝑒\n",
        ", 𝑒𝑚𝑏𝑒𝑑𝑑𝑖𝑛𝑔𝑠′𝑐𝑜𝑚𝑝𝑜𝑛𝑒𝑛𝑡𝑠\n",
        ") the weights are going to be calculated and updated via the backpropagation algorithm; since the loss function is going to be calculated against a certain number of labels (4) the weights are going to be updated that way and are going to innerly learn how to update themselves to best approximate each sentence in the minibatch to the right label. In this case, the embeddings are going to take the integers from each example in the batch (which are going to be limited by max_tokens) and then the layer is going to learn how to update its weights in a way that the tokens present in the 50 tokens yield to the right category. In this case, the network is going to use the embeddings as a bridge to learn how some words are related more deeply to a certain category than others."
      ]
    },
    {
      "cell_type": "markdown",
      "id": "ab1fbc30",
      "metadata": {
        "id": "ab1fbc30",
        "pycharm": {
          "name": "#%% md\n"
        }
      },
      "source": [
        "It is important to notice here that the size of the vocabulary is n number of words plus a 0 index reserved for unknown words; however, in each iteration the network will receive a constant number of mini_batch size samples each with a max_vocab number of tokens."
      ]
    },
    {
      "cell_type": "markdown",
      "id": "970fcee8",
      "metadata": {
        "id": "970fcee8"
      },
      "source": [
        "### RNN Approach"
      ]
    },
    {
      "cell_type": "code",
      "execution_count": null,
      "id": "50f20793",
      "metadata": {
        "id": "50f20793",
        "pycharm": {
          "name": "#%%\n"
        }
      },
      "outputs": [],
      "source": [
        "EMBEDDING_SIZE = 50\n",
        "NEURONS_HIDDEN = int(EMBEDDING_SIZE*2)\n",
        "LAYERS = 2\n",
        "NUM_CLASSES = 4"
      ]
    },
    {
      "cell_type": "markdown",
      "id": "9584cff1",
      "metadata": {
        "id": "9584cff1",
        "pycharm": {
          "name": "#%% md\n"
        }
      },
      "source": [
        "Next, we define our RNN model:"
      ]
    },
    {
      "cell_type": "markdown",
      "id": "729a2ba0",
      "metadata": {
        "id": "729a2ba0"
      },
      "source": [
        "Our first approach was to build a normal RNN and see how it performs at this classification problem."
      ]
    },
    {
      "cell_type": "code",
      "execution_count": null,
      "id": "c4251a67",
      "metadata": {
        "id": "c4251a67"
      },
      "outputs": [],
      "source": [
        "class RNN_Model_1(nn.Module):\n",
        "    def __init__(self, embed_size, hidden, layers, num_classes, vocab):\n",
        "        super().__init__()\n",
        "        self.embedding_layer = nn.Embedding(num_embeddings=len(vocab),\n",
        "                                            embedding_dim=embed_size)\n",
        "\n",
        "        # complete this code/\n",
        "        # You may use PyTorch nn.GRU(), nn.RNN(), or nn.LSTM()\n",
        "        self.rnn = nn.RNN(input_size=embed_size,\n",
        "                  hidden_size=hidden,\n",
        "                  num_layers=layers,\n",
        "                  nonlinearity=\"tanh\",\n",
        "                  bias=True,\n",
        "                  batch_first=True)\n",
        "\n",
        "        # complete output classifier layer using linear layer\n",
        "        self.fc = nn.Linear(in_features=hidden, out_features=num_classes, bias=True)\n",
        "\n",
        "    def forward(self, x):\n",
        "        # implement forward pass. This function will be called when executing the model\n",
        "        x = self.embedding_layer(x)             # Embedding layer\n",
        "        x, _ = self.rnn(x)                      # RNN layer\n",
        "        x = x[:, -1, :]                         # Get the last hidden state by selecting\n",
        "                                                # \"for all items in the batch (:), select the last time step (-1),\n",
        "                                                # and all features (:)\".\n",
        "        x = self.fc(x)                          # Output classifier layer\n",
        "\n",
        "        return x"
      ]
    },
    {
      "cell_type": "markdown",
      "id": "778b7c8e",
      "metadata": {
        "id": "778b7c8e"
      },
      "source": [
        "Lets analyze our class"
      ]
    },
    {
      "cell_type": "markdown",
      "id": "d5dd0825",
      "metadata": {
        "id": "d5dd0825"
      },
      "source": [
        "We check the model definition and we can see that we have the number of neurons well defined:\n",
        "\n",
        "The number of embedding dimension should match the input_size dimension in the RNN and then the output_size in the RNN should match the in_features parameter in the fully connected final layer"
      ]
    },
    {
      "cell_type": "code",
      "execution_count": null,
      "id": "8a43b29d",
      "metadata": {
        "id": "8a43b29d",
        "outputId": "31081ec2-d628-47ba-9eac-666bc259bbb6"
      },
      "outputs": [
        {
          "data": {
            "text/plain": [
              "RNN_Model_1(\n",
              "  (embedding_layer): Embedding(95811, 50)\n",
              "  (rnn): RNN(50, 100, num_layers=2, batch_first=True)\n",
              "  (fc): Linear(in_features=100, out_features=4, bias=True)\n",
              ")"
            ]
          },
          "execution_count": 17,
          "metadata": {},
          "output_type": "execute_result"
        }
      ],
      "source": [
        "RNN1 = RNN_Model_1(embed_size=EMBEDDING_SIZE, hidden=NEURONS_HIDDEN, layers = LAYERS, num_classes=NUM_CLASSES, vocab=vocab)\n",
        "RNN1"
      ]
    },
    {
      "cell_type": "markdown",
      "id": "573a653b",
      "metadata": {
        "id": "573a653b"
      },
      "source": [
        "Lets analyze our forward pass, for this we will need to get a sample from the data loader"
      ]
    },
    {
      "cell_type": "code",
      "execution_count": null,
      "id": "8702577a",
      "metadata": {
        "id": "8702577a",
        "outputId": "efe8a705-9609-4f8f-b17a-7b5028d4c319"
      },
      "outputs": [
        {
          "name": "stdout",
          "output_type": "stream",
          "text": [
            "(tensor([[  266,  1269,   279,  ...,     0,     0,     0],\n",
            "        [ 3322,  3475,  4692,  ...,     0,     0,     0],\n",
            "        [20222,   402,  7437,  ...,     0,     0,     0],\n",
            "        ...,\n",
            "        [   23,   618,   624,  ...,     0,     0,     0],\n",
            "        [ 3055,  5844,  1679,  ...,     0,     0,     0],\n",
            "        [ 7952,  1339,    24,  ...,     0,     0,     0]], dtype=torch.int32), tensor([0, 0, 1, 3, 3, 3, 0, 0, 0, 2, 1, 1, 3, 0, 0, 0, 3, 1, 0, 3, 2, 3, 2, 1,\n",
            "        2, 3, 3, 3, 1, 0, 3, 0], dtype=torch.int32))\n",
            "2\n"
          ]
        }
      ],
      "source": [
        "counter = 0\n",
        "for element in train_loader:\n",
        "    if counter < 1:\n",
        "        counter += 1\n",
        "        sample_0 = element\n",
        "        print(element)\n",
        "        print(len(element))\n",
        "    else:\n",
        "        break"
      ]
    },
    {
      "cell_type": "code",
      "execution_count": null,
      "id": "8fdf3d36",
      "metadata": {
        "id": "8fdf3d36",
        "outputId": "f736bceb-b7bb-42fc-f6e6-6e0e44592d33"
      },
      "outputs": [
        {
          "name": "stdout",
          "output_type": "stream",
          "text": [
            "torch.Size([32, 50])\n",
            "torch.Size([32])\n"
          ]
        }
      ],
      "source": [
        "print(sample_0[0].size())      # We observe the size of tensor in position 0\n",
        "print(sample_0[1].size())      # We observe the size of tensor in position 1"
      ]
    },
    {
      "cell_type": "markdown",
      "id": "4f7889e1",
      "metadata": {
        "id": "4f7889e1"
      },
      "source": [
        "We call our forward method, just for the Xs!"
      ]
    },
    {
      "cell_type": "code",
      "execution_count": null,
      "id": "843523b6",
      "metadata": {
        "id": "843523b6",
        "outputId": "e619aaaa-1fd3-424c-cffe-2eeb4e7b7646"
      },
      "outputs": [
        {
          "data": {
            "text/plain": [
              "tensor([[-0.3620,  0.0072,  0.0810, -0.1471],\n",
              "        [-0.3619,  0.0073,  0.0811, -0.1471],\n",
              "        [-0.3619,  0.0072,  0.0811, -0.1472],\n",
              "        [-0.3237, -0.1638, -0.2326,  0.0867],\n",
              "        [-0.3619,  0.0073,  0.0811, -0.1471],\n",
              "        [-0.3633,  0.0073,  0.0811, -0.1499],\n",
              "        [-0.4612, -0.0369,  0.1736, -0.3374],\n",
              "        [-0.1179,  0.2975, -0.0570,  0.0229],\n",
              "        [ 0.1605,  0.1494, -0.0841, -0.0136],\n",
              "        [-0.1259,  0.0175, -0.0183,  0.0716],\n",
              "        [-0.2002,  0.2623, -0.2939, -0.0259],\n",
              "        [-0.3619,  0.0073,  0.0809, -0.1475],\n",
              "        [-0.2260,  0.1587,  0.0198, -0.0824],\n",
              "        [-0.3709,  0.0017,  0.0663, -0.1531],\n",
              "        [-0.3615,  0.0100,  0.0802, -0.1479],\n",
              "        [-0.3619,  0.0073,  0.0811, -0.1471],\n",
              "        [-0.3398, -0.0039, -0.2424, -0.1388],\n",
              "        [-0.3628,  0.0078,  0.0802, -0.1473],\n",
              "        [-0.3620,  0.0073,  0.0809, -0.1473],\n",
              "        [-0.3620,  0.0105,  0.0795, -0.1516],\n",
              "        [-0.3619,  0.0073,  0.0811, -0.1473],\n",
              "        [-0.3436,  0.0020,  0.0575, -0.1664],\n",
              "        [-0.1745, -0.0392,  0.0368, -0.1809],\n",
              "        [-0.3811,  0.0219,  0.0802, -0.1453],\n",
              "        [-0.3718,  0.0070,  0.0789, -0.1510],\n",
              "        [-0.3498,  0.0123,  0.0805, -0.1113],\n",
              "        [-0.3436,  0.0209,  0.0767, -0.1039],\n",
              "        [-0.3492,  0.0175,  0.0685, -0.1130],\n",
              "        [-0.3619,  0.0073,  0.0811, -0.1471],\n",
              "        [-0.3619,  0.0073,  0.0811, -0.1471],\n",
              "        [-0.3621,  0.0101,  0.0809, -0.1489],\n",
              "        [-0.3619,  0.0071,  0.0807, -0.1476]], grad_fn=<AddmmBackward0>)"
            ]
          },
          "execution_count": 20,
          "metadata": {},
          "output_type": "execute_result"
        }
      ],
      "source": [
        "RNN1_preview= RNN1.forward(sample_0[0])\n",
        "RNN1_preview"
      ]
    },
    {
      "cell_type": "code",
      "execution_count": null,
      "id": "07b0be4a",
      "metadata": {
        "id": "07b0be4a",
        "outputId": "24ed5641-96bd-45c2-aede-f492208ccab0"
      },
      "outputs": [
        {
          "data": {
            "text/plain": [
              "torch.Size([32, 4])"
            ]
          },
          "execution_count": 21,
          "metadata": {},
          "output_type": "execute_result"
        }
      ],
      "source": [
        "RNN1_preview.size()"
      ]
    },
    {
      "cell_type": "markdown",
      "id": "43976be8",
      "metadata": {
        "id": "43976be8"
      },
      "source": [
        "In order to get the label that has the greater probability we could get the softmax probability function and then calculate the average loss. We can do this via the cross_entropy function in the functional module, before this we need targets to be in dtype of torch.long"
      ]
    },
    {
      "cell_type": "code",
      "execution_count": null,
      "id": "c5dd5d26",
      "metadata": {
        "id": "c5dd5d26"
      },
      "outputs": [],
      "source": [
        "target_0 = sample_0[1].to(torch.long)"
      ]
    },
    {
      "cell_type": "code",
      "execution_count": null,
      "id": "de1da9f8",
      "metadata": {
        "id": "de1da9f8",
        "outputId": "b8453a05-93a3-48e4-9de8-fd55018d3188"
      },
      "outputs": [
        {
          "data": {
            "text/plain": [
              "tensor(1.4322, grad_fn=<NllLossBackward0>)"
            ]
          },
          "execution_count": 23,
          "metadata": {},
          "output_type": "execute_result"
        }
      ],
      "source": [
        "F.cross_entropy(RNN1_preview, target_0, size_average=None)"
      ]
    },
    {
      "cell_type": "markdown",
      "id": "148f3052",
      "metadata": {
        "id": "148f3052"
      },
      "source": [
        "Now that we have seen how is the data entered into the model and how is the data process by it we will make the accuracy and training functions"
      ]
    },
    {
      "cell_type": "markdown",
      "id": "25325f39",
      "metadata": {
        "id": "25325f39"
      },
      "source": [
        "#### Accuracy Funtion"
      ]
    },
    {
      "cell_type": "code",
      "execution_count": null,
      "id": "3c86ce90",
      "metadata": {
        "id": "3c86ce90"
      },
      "outputs": [],
      "source": [
        "def accuracy(model, loader):\n",
        "    \"\"\"\n",
        "    Compute the accuracy of a model using data from a loader.\n",
        "\n",
        "    Args:\n",
        "    - model (torch.nn.Module): The PyTorch model.\n",
        "    - loader (torch.utils.data.DataLoader): The data loader.\n",
        "\n",
        "    Returns:\n",
        "    - float: The cost of the model on the provided data.\n",
        "    - float: The accuracy of the model on the provided data.\n",
        "    \"\"\"\n",
        "    correct = 0\n",
        "    total_examples = 0\n",
        "    cost = 0\n",
        "\n",
        "    model.eval()                                             # We set the model to evaluate to avoid gradient computarions\n",
        "    model = model.to(device=device)                          # We make sure we load the model in GPU if available\n",
        "    with torch.no_grad():                                    # We desable the gradient calculation process since in this point we are not traning the model\n",
        "        for xi,yi in loader:                                 # We get in two variables all the MINIBATCH_SIZE x and y values\n",
        "            xi = xi.to(device=device, dtype = torch.int32)   # We make sure the dtype in the Xs are of type tensor.int 32 (since emb. Layer needs int data)\n",
        "            yi = yi.to(device=device, dtype = torch.long)    # We make sure the dtype in the ys are of type tensor.long\n",
        "            y_hat = model(xi)                                # We get the samples in the model to get the results\n",
        "            cost += (F.cross_entropy(y_hat, yi)).item()      # We get Cost Value from the batch\n",
        "\n",
        "            _, pred = y_hat.max(dim=1)           # We get the index with the maximum score\n",
        "            correct += (pred == yi).sum()        # We get the correct number of predictions by adding where the indices make match\n",
        "            total_examples += pred.size(0)       # Get Batch_size\n",
        "        total_examples = float(total_examples)   # Convert final total_examples to float (Redundant, Failure preventing)\n",
        "\n",
        "    return float(cost)/total_examples, float(correct)/total_examples"
      ]
    },
    {
      "cell_type": "markdown",
      "id": "dd61cdd5",
      "metadata": {
        "id": "dd61cdd5"
      },
      "source": [
        "#### Train Function"
      ]
    },
    {
      "cell_type": "code",
      "execution_count": null,
      "id": "363ce149",
      "metadata": {
        "id": "363ce149"
      },
      "outputs": [],
      "source": [
        "def train(model, optimiser, epochs=100):\n",
        "    \"\"\"\n",
        "    Train a PyTorch model.\n",
        "\n",
        "    Parameters:\n",
        "    - model: the neural network model\n",
        "    - optimizer: optimizer for training\n",
        "    - epochs: number of epochs to train for\n",
        "\n",
        "    Returns:\n",
        "    - Print a statement showing each epoch's average train and val cost and accuracy\n",
        "    - train_acc_list: list of accuracy values in training for each epoch\n",
        "    - train_cost_list: list of cost values in training for each epoch\n",
        "    - val_acc_list: list of accuracy values in validation for each epoch\n",
        "    - val_cost_list: list of cost values in validation for each epoch\n",
        "    \"\"\"\n",
        "    print(f'lr: {optimiser.param_groups[0][\"lr\"]:.6f}')         # Print the learning rate that the optimiser uses\n",
        "    model = model.to(device=device)                             # Before anything we make sure we are loading to CUDA if available\n",
        "    train_acc_list = []; val_acc_list = []                      # We define two empty lists to store accuracy values\n",
        "    train_cost_list = []; val_cost_list = []                    # We define two empty lists to store cost values\n",
        "    for epoch in range(epochs):                                 # A loop is made for epochs number of iterations\n",
        "        train_correct_num  = 0.\n",
        "        train_total = 0.\n",
        "        train_cost = 0.                                         # Initialize the training cost as floating 0 at each EPOCH\n",
        "        val_cost = 0.                                           # Initialize the validation cost as floating 0 at each EPOCH\n",
        "        train_cost_acum = 0\n",
        "        for  xi, yi in train_loader:                            # The train_loader is called within a loop, getting the X,y pairs\n",
        "            model.train()                                       # Model is set to train, since gradient computation is needed\n",
        "            xi = xi.to(device=device, dtype=torch.int32)        # We make sure the dtype in the Xs are of type tensor.int32 (since emb. Layer needs int data)\n",
        "            yi = yi.to(device=device, dtype=torch.long)         # We make sure the dtype in the ys are of type tensor.long\n",
        "            y_hat = model(xi)                                   # We generate the outputs scores for our model batch Xs\n",
        "\n",
        "            # funcion cost\n",
        "            cost = F.cross_entropy(input= y_hat, target=yi.squeeze())  # Cost function is defined as CXEntropy, where scores and targets are given\n",
        "            optimiser.zero_grad()                                      # We set the previous gradients to 0 to avoid gradient accumulation during training\n",
        "            cost.backward()                                            # We execute the running pass, calculating the gradients of the L-function w/respect parameters\n",
        "            optimiser.step()                                           # We update parameters following a given optimizer\n",
        "\n",
        "            # We calculate train accuracy and cost here, instead of the accuracy() function, to get a better training time\n",
        "            train_correct_num += (torch.argmax(y_hat, dim=1) == yi.squeeze()).sum() # For each BATCH_SIZE samples we get the number of correct predictions, accumulating\n",
        "            train_total += y_hat.size(0)                                            # For each BATCH_SIZE samples we get the number of total predictions, accumulating\n",
        "            train_cost_acum += cost.item()                                          # From the object returning from CXEntropy the total cost is accumulated\n",
        "\n",
        "        train_acc = float(train_correct_num)/train_total               # Get Epoch's Average Accuracy\n",
        "        train_cost = train_cost_acum/train_total                       # Get Epoch's Average Training Cost\n",
        "\n",
        "        val_cost, val_acc = accuracy(model, val_loader)         # accuracy function is called (setting model to eval), getting validation cost and accuracy\n",
        "                                                                # since accuracy receives a data loader and iterates over it, it will get an \"Epoch's val average\"\n",
        "\n",
        "        train_acc_list.append(train_acc); val_acc_list.append(val_acc)          # Store accuracy values in their lists\n",
        "        train_cost_list.append(train_cost); val_cost_list.append(val_cost)      # Store costs values in their lists\n",
        "\n",
        "        print(f'Epoch:{epoch+1}, train cost: {train_cost:.6f}, val cost: {val_cost:.6f},'\n",
        "              f' train acc: {train_acc:.4f}, val acc: {val_acc:4f}')\n",
        "    return train_acc_list, train_cost_list, val_acc_list, val_cost_list"
      ]
    },
    {
      "cell_type": "markdown",
      "id": "e7301fde",
      "metadata": {
        "id": "e7301fde"
      },
      "source": [
        "We define the number of epochs and learning rate that we will use in our model, we also create an instance of the class RNN_Model_1.\n",
        "We also define our optimiser to be Adam"
      ]
    },
    {
      "cell_type": "code",
      "execution_count": null,
      "id": "0c4dc7d8",
      "metadata": {
        "id": "0c4dc7d8"
      },
      "outputs": [],
      "source": [
        "epochs = 20\n",
        "lr = 2e-4                           #4e-4 for 50 embeding dim\n",
        "# instantiate model\n",
        "rnn_model = RNN_Model_1(embed_size=EMBEDDING_SIZE, hidden=NEURONS_HIDDEN, layers=LAYERS, num_classes=NUM_CLASSES, vocab=vocab)\n",
        "optimiser = torch.optim.Adam(rnn_model.parameters(), lr=lr)"
      ]
    },
    {
      "cell_type": "markdown",
      "id": "9193a725",
      "metadata": {
        "id": "9193a725"
      },
      "source": [
        "We use the usefull time library to get the amount of time needed for our training for the number of epochs defined.\n",
        "We also assing the results of the training process to the train_acc, train_cost, val_acc and val_cost variables"
      ]
    },
    {
      "cell_type": "code",
      "execution_count": null,
      "id": "6b14ae23",
      "metadata": {
        "id": "6b14ae23",
        "outputId": "c67b835a-e985-45b2-d0f8-8ef4a0be4330"
      },
      "outputs": [
        {
          "name": "stdout",
          "output_type": "stream",
          "text": [
            "lr: 0.000200\n",
            "Epoch:1, train cost: 0.041437, val cost: 0.036788, train acc: 0.3430, val acc: 0.458583\n",
            "Epoch:2, train cost: 0.032517, val cost: 0.028500, train acc: 0.5234, val acc: 0.588833\n",
            "Epoch:3, train cost: 0.027303, val cost: 0.024323, train acc: 0.6040, val acc: 0.650000\n",
            "Epoch:4, train cost: 0.023842, val cost: 0.023657, train acc: 0.6549, val acc: 0.671833\n",
            "Epoch:5, train cost: 0.022410, val cost: 0.022532, train acc: 0.6763, val acc: 0.688667\n",
            "Epoch:6, train cost: 0.023919, val cost: 0.022648, train acc: 0.6677, val acc: 0.686083\n",
            "Epoch:7, train cost: 0.020715, val cost: 0.021857, train acc: 0.7093, val acc: 0.704083\n",
            "Epoch:8, train cost: 0.019647, val cost: 0.018883, train acc: 0.7428, val acc: 0.779583\n",
            "Epoch:9, train cost: 0.019225, val cost: 0.020798, train acc: 0.7537, val acc: 0.697917\n",
            "Epoch:10, train cost: 0.022518, val cost: 0.040321, train acc: 0.6779, val acc: 0.400833\n",
            "Epoch:11, train cost: 0.025598, val cost: 0.022868, train acc: 0.6337, val acc: 0.706917\n",
            "Epoch:12, train cost: 0.019204, val cost: 0.016901, train acc: 0.7681, val acc: 0.813750\n",
            "Epoch:13, train cost: 0.017980, val cost: 0.017637, train acc: 0.7928, val acc: 0.805167\n",
            "Epoch:14, train cost: 0.016159, val cost: 0.015960, train acc: 0.8253, val acc: 0.831500\n",
            "Epoch:15, train cost: 0.014778, val cost: 0.015619, train acc: 0.8428, val acc: 0.839750\n",
            "Epoch:16, train cost: 0.015873, val cost: 0.025282, train acc: 0.8283, val acc: 0.698000\n",
            "Epoch:17, train cost: 0.014345, val cost: 0.015254, train acc: 0.8544, val acc: 0.852083\n",
            "Epoch:18, train cost: 0.015718, val cost: 0.023035, train acc: 0.8333, val acc: 0.723000\n",
            "Epoch:19, train cost: 0.014322, val cost: 0.014090, train acc: 0.8522, val acc: 0.865167\n",
            "Epoch:20, train cost: 0.012905, val cost: 0.013589, train acc: 0.8753, val acc: 0.871750\n",
            "Total training time: 4.4273 mins\n"
          ]
        }
      ],
      "source": [
        "import time\n",
        "start = time.time()    # We store the time to calculate the total training time of the model\n",
        "\n",
        "# The 4 outputs of the train() function are the lists storing their respective values in each epoch\n",
        "train_acc, train_cost, val_acc, val_cost = train(rnn_model, optimiser, epochs)\n",
        "\n",
        "end = time.time()     # Now, we store the time when it finishes training\n",
        "print(f'Total training time: {(end - start)/60:.4f} mins') # And we print it"
      ]
    },
    {
      "cell_type": "markdown",
      "id": "16a478f1",
      "metadata": {
        "id": "16a478f1"
      },
      "source": [
        "We test the overall accurary in our test data using our trained model"
      ]
    },
    {
      "cell_type": "code",
      "execution_count": null,
      "id": "249b0b68",
      "metadata": {
        "id": "249b0b68",
        "outputId": "9c6e17ab-fed4-4c74-c016-064f5ae1e88d"
      },
      "outputs": [
        {
          "name": "stdout",
          "output_type": "stream",
          "text": [
            "The overall accuracy of the trained model using the test data is: 86.53 %\n"
          ]
        }
      ],
      "source": [
        "print(f'The overall accuracy of the trained model using the test data is: {(accuracy(rnn_model, test_loader)[1]) * 100:.2f} %')"
      ]
    },
    {
      "cell_type": "markdown",
      "id": "61b95d8b",
      "metadata": {
        "id": "61b95d8b"
      },
      "source": [
        "We create a function that allows us to plot the training and validation accuracy and costs along the epochs"
      ]
    },
    {
      "cell_type": "code",
      "execution_count": null,
      "id": "5222830a",
      "metadata": {
        "id": "5222830a"
      },
      "outputs": [],
      "source": [
        "import matplotlib.pyplot as plt\n",
        "def plot_train_val(TL, VL, graph):\n",
        "    \"\"\"\n",
        "    Plot training vs. validation values for accuracy and cost.\n",
        "\n",
        "    Parameters:\n",
        "    - TL: a list with the training values\n",
        "    - VL: a list with the validation values\n",
        "    - graph: a boolean where True: accuracy and False: cost\n",
        "    \"\"\"\n",
        "    plt.figure(figsize=(7,4))             # We define the size of the plot\n",
        "    epochs_range = range(1,len(TL)+1)     # We define size of X in the plot, according to the number of epochs\n",
        "    if graph:                             # If 'True' the we are working for accuracy values\n",
        "        graph_type = 'Accuracy'\n",
        "    else:                                 # If 'False' the we are working for cost values\n",
        "        graph_type = 'Cost'\n",
        "    plt.plot(epochs_range, TL, 'g', label='Training ' + graph_type)    # Plot the training values\n",
        "    plt.plot(epochs_range, VL, 'b', label='Validation ' + graph_type)  # Plot the validation values\n",
        "    plt.title('Training and Validation ' + graph_type)                 # Define the title of the graph\n",
        "    plt.xlabel('Epochs')                                               # Define the label for X\n",
        "    plt.ylabel(graph_type)                                             # Define the label for Y\n",
        "    plt.legend()                                                       # Display the legend in the plot\n",
        "    plt.show()                                                         # Show the plot"
      ]
    },
    {
      "cell_type": "markdown",
      "id": "8cbd653c",
      "metadata": {
        "id": "8cbd653c"
      },
      "source": [
        "We plot the training and validation accuracy"
      ]
    },
    {
      "cell_type": "code",
      "execution_count": null,
      "id": "58fc80ee",
      "metadata": {
        "id": "58fc80ee",
        "outputId": "4ccd12dd-80f9-4dd5-bf76-2d9651281d4d"
      },
      "outputs": [
        {
          "data": {
            "image/png": "[encoded data removed]",
            "text/plain": [
              "<Figure size 700x400 with 1 Axes>"
            ]
          },
          "metadata": {},
          "output_type": "display_data"
        }
      ],
      "source": [
        "plot_train_val(train_acc, val_acc, True)"
      ]
    },
    {
      "cell_type": "markdown",
      "id": "7d696cfa",
      "metadata": {
        "id": "7d696cfa"
      },
      "source": [
        "We plot the train and validation cost"
      ]
    },
    {
      "cell_type": "code",
      "execution_count": null,
      "id": "adf74d92",
      "metadata": {
        "id": "adf74d92",
        "outputId": "70484f4d-eef6-4d1d-e337-ee562472d493"
      },
      "outputs": [
        {
          "data": {
            "image/png": "[encoded data removed]",
            "text/plain": [
              "<Figure size 700x400 with 1 Axes>"
            ]
          },
          "metadata": {},
          "output_type": "display_data"
        }
      ],
      "source": [
        "plot_train_val(train_acc, val_acc, False)"
      ]
    },
    {
      "cell_type": "markdown",
      "id": "a049deb4",
      "metadata": {
        "id": "a049deb4"
      },
      "source": [
        "From the graphs we can see that the model would start to overfit for longer epochs; however up to 20 epochs we do not see a very strong impact of overfitting"
      ]
    },
    {
      "cell_type": "markdown",
      "id": "20e9dda6",
      "metadata": {
        "id": "20e9dda6"
      },
      "source": [
        "### LSTM Approach"
      ]
    },
    {
      "cell_type": "markdown",
      "id": "93581e65",
      "metadata": {
        "id": "93581e65",
        "pycharm": {
          "name": "#%% md\n"
        }
      },
      "source": [
        "Due to the presence of extremely lengthy sequences, we will employ an LSTM layer to consider extended-range influences. Our approach to sentiment analysis involves the construction of an RNN model. This model begins with an embedding layer, which generates word embeddings with a dimensionality of 50. Subsequently, we introduce a recurrent LSTM layer. To complete the model, we include a hidden fully connected layer and an additional fully connected layer as the output layer. The output layer employs a logistic sigmoid activation function to provide a predictive probability value for class membership across four classes."
      ]
    },
    {
      "cell_type": "code",
      "execution_count": null,
      "id": "ac1331c8",
      "metadata": {
        "id": "ac1331c8"
      },
      "outputs": [],
      "source": [
        "EMBEDDING_SIZE = 50\n",
        "NEURONS = 200\n",
        "NEURONS2 = 100\n",
        "LAYERS = 2\n",
        "NUM_CLASSES = 4"
      ]
    },
    {
      "cell_type": "code",
      "execution_count": null,
      "id": "8ad76f1b",
      "metadata": {
        "id": "8ad76f1b",
        "pycharm": {
          "name": "#%%\n"
        }
      },
      "outputs": [],
      "source": [
        "class RNN_Model_2(nn.Module):\n",
        "    def __init__(self, embed_size, hidden, hidden2, layers, num_classes):\n",
        "        \"\"\"\n",
        "        - self: the instance of the class\n",
        "        - embed_size: embeddings' dimensionality\n",
        "        - hidden: output of the LSTM\n",
        "        - hidden2: output the hidden fully connected layer\n",
        "        \"\"\"\n",
        "        super().__init__()                                                                  # init classes\n",
        "        self.embedding = nn.Embedding(len(vocab), embedding_dim=embed_size, padding_idx=0)  # define embedding layer\n",
        "        self.rnn = nn.LSTM(embed_size, hidden, batch_first=True)                            # define LSTM\n",
        "        self.fc1 = nn.Linear(hidden, hidden2)                                               # define hidden fully connected layer\n",
        "        self.relu = nn.ReLU()                                                               # apply ReLU\n",
        "        self.fc2 = nn.Linear(hidden2, num_classes)                                          # define output fully connected layer\n",
        "        self.sigmoid = nn.Sigmoid()                                                         # apply sigmoid\n",
        "\n",
        "\n",
        "    def forward(self, x, lengths):\n",
        "        \"\"\"\n",
        "        Function to be used when calling the class\n",
        "\n",
        "        Parameters:\n",
        "        - self: the instance of the class\n",
        "        - x: input tensor of tokenized texts\n",
        "        - lengths: tensor with the length of all texts\n",
        "        Returns:\n",
        "        - The output of the RNN\n",
        "        \"\"\"\n",
        "        x = self.embedding(x)                                                          # Embedding layer\n",
        "        x = nn.utils.rnn.pack_padded_sequence(x, lengths.cpu().numpy(),                # function is used to pack the sequences\n",
        "                                              enforce_sorted=False, batch_first=True)  # and their lengths into a special format\n",
        "                                                                                       # that allows for efficient processing\n",
        "        x, (hidden, cell) = self.rnn(x)                                                # RNN layer\n",
        "        x = hidden[-1, :, :]                                                           # hidden state of the last time step in the batch\n",
        "        x = self.fc1(x)                                                                # linear transformation on the input\n",
        "        x = self.relu(x)                                                               # apply ReLU\n",
        "        x = self.fc2(x)                                                                # fully connected layer\n",
        "        x = self.sigmoid(x)                                                            # apply sigmoid\n",
        "        return x"
      ]
    },
    {
      "cell_type": "markdown",
      "id": "d5fa6648",
      "metadata": {
        "id": "d5fa6648",
        "pycharm": {
          "name": "#%% md\n"
        }
      },
      "source": [
        "Let's analyze our class\n",
        "\n",
        "We check the model definition and we can see that we have the number of neurons well defined:\n",
        "\n",
        "The number of embedding dimensions should match the input_size dimension in the RNN and then the output_size in the RNN should match the in_features parameter in the hidden fully connected layer. While the output_size of the previous layer matches the in_features of the final fully connected layer. Which ends with 4 out_features, out 4 classes."
      ]
    },
    {
      "cell_type": "code",
      "execution_count": null,
      "id": "1f6308a6",
      "metadata": {
        "id": "1f6308a6",
        "outputId": "d6265854-7eb4-4406-edd9-70160d34c232",
        "pycharm": {
          "name": "#%%\n"
        }
      },
      "outputs": [
        {
          "data": {
            "text/plain": [
              "RNN_Model_2(\n",
              "  (embedding): Embedding(95811, 50, padding_idx=0)\n",
              "  (rnn): LSTM(50, 200, batch_first=True)\n",
              "  (fc1): Linear(in_features=200, out_features=100, bias=True)\n",
              "  (relu): ReLU()\n",
              "  (fc2): Linear(in_features=100, out_features=4, bias=True)\n",
              "  (sigmoid): Sigmoid()\n",
              ")"
            ]
          },
          "execution_count": 34,
          "metadata": {},
          "output_type": "execute_result"
        }
      ],
      "source": [
        "lstm_model = RNN_Model_2(embed_size=EMBEDDING_SIZE, hidden=NEURONS, hidden2 = NEURONS2, layers = LAYERS, num_classes=NUM_CLASSES)\n",
        "lstm_model"
      ]
    },
    {
      "cell_type": "markdown",
      "id": "0cf3edf9",
      "metadata": {
        "id": "0cf3edf9",
        "pycharm": {
          "name": "#%% md\n"
        }
      },
      "source": [
        "Lets analyze our forward pass, for this we will need to get a sample from the data loader"
      ]
    },
    {
      "cell_type": "code",
      "execution_count": null,
      "id": "f8184720",
      "metadata": {
        "id": "f8184720",
        "outputId": "b28e3054-0e87-4bc2-d577-27c98869c0c2",
        "pycharm": {
          "name": "#%%\n"
        }
      },
      "outputs": [
        {
          "name": "stdout",
          "output_type": "stream",
          "text": [
            "(tensor([[  554,  1948,  3091,  ...,     0,     0,     0],\n",
            "        [  128, 23858,   111,  ...,     0,     0,     0],\n",
            "        [  816,  4910,  4868,  ...,   435,  1235,    12],\n",
            "        ...,\n",
            "        [    9,     1,  2883,  ...,     0,     0,     0],\n",
            "        [ 4701,    59,     6,  ...,     0,     0,     0],\n",
            "        [  168,   328,  1286,  ...,     0,     0,     0]], dtype=torch.int32), tensor([1, 2, 0, 2, 1, 0, 0, 0, 2, 2, 0, 2, 0, 1, 2, 3, 1, 3, 0, 3, 2, 0, 3, 3,\n",
            "        1, 0, 1, 2, 2, 2, 1, 0], dtype=torch.int32))\n",
            "2\n"
          ]
        }
      ],
      "source": [
        "counter = 0\n",
        "for element in train_loader:\n",
        "    if counter < 1:\n",
        "        counter += 1\n",
        "        sample_0 = element\n",
        "        print(element)\n",
        "        print(len(element))\n",
        "    else:\n",
        "        break"
      ]
    },
    {
      "cell_type": "code",
      "execution_count": null,
      "id": "0543badf",
      "metadata": {
        "id": "0543badf",
        "outputId": "e15eee46-43a5-4032-b4fd-6d301f08b8e6",
        "pycharm": {
          "name": "#%%\n"
        }
      },
      "outputs": [
        {
          "name": "stdout",
          "output_type": "stream",
          "text": [
            "torch.Size([32, 50])\n",
            "torch.Size([32])\n"
          ]
        }
      ],
      "source": [
        "print(sample_0[0].size())      # We observe the size of tensor in position 0\n",
        "print(sample_0[1].size())      # We observe the size of tensor in position 1"
      ]
    },
    {
      "cell_type": "markdown",
      "id": "8ceb34ab",
      "metadata": {
        "id": "8ceb34ab",
        "pycharm": {
          "name": "#%% md\n"
        }
      },
      "source": [
        "Now we can define the accuracy and training functions, as in previous activities. With the difference that here we define a tensor with the lengths of the 'xi' tensors. Which will be used in the forward pass of the model, with the pack_padded_sequence() function. It could have been set up as a return value of the collate_batch() function, but as instructed in the activity, we didn't modify that function."
      ]
    },
    {
      "cell_type": "markdown",
      "id": "12aa96f0",
      "metadata": {
        "id": "12aa96f0",
        "pycharm": {
          "name": "#%% md\n"
        }
      },
      "source": [
        "#### Accuracy Funtion (Adapted For LSTM)"
      ]
    },
    {
      "cell_type": "code",
      "execution_count": null,
      "id": "033076fe",
      "metadata": {
        "id": "033076fe",
        "pycharm": {
          "name": "#%%\n"
        }
      },
      "outputs": [],
      "source": [
        "def accuracy(model, loader):\n",
        "    \"\"\"\n",
        "    Compute the accuracy of a model using data from a loader.\n",
        "\n",
        "    Args:\n",
        "    - model (torch.nn.Module): The PyTorch model.\n",
        "    - loader (torch.utils.data.DataLoader): The data loader.\n",
        "\n",
        "    Returns:\n",
        "    - float: The cost of the model on the provided data.\n",
        "    - float: The accuracy of the model on the provided data.\n",
        "    \"\"\"\n",
        "    num_correct = 0\n",
        "    num_total = 0\n",
        "    cost = 0.\n",
        "    model.eval()\n",
        "    model = model.to(device=device)\n",
        "    with torch.no_grad():                                           # We disable the gradient calculation process since in this point we are not traning the model\n",
        "        for (xi, yi) in loader:                                     # We get in two variables all the MINIBATCH_SIZE x and y values\n",
        "            xi = xi.to(device=device, dtype = torch.int32)          # We make sure the dtype in the Xs are of type tensor.float32\n",
        "            yi = yi.to(device=device, dtype = torch.long)           # We make sure the dtype in the ys are of type tensor.long\n",
        "            lengths = []                                            # Empty list to fill with the lengths of the xis\n",
        "            for temp in xi:                                         # Iterate through every element in xi\n",
        "                lengths.append(len(temp))                           # Append it to the list\n",
        "            lengths = torch.tensor(lengths, dtype=torch.int32)      # convert to tensor with dtype int32\n",
        "            scores = model(xi, lengths)                             # We get the samples in the model to get the results (scores)\n",
        "            cost += (F.cross_entropy(scores, yi)).item()            # We calculate the cost and accumulate it for all batches\n",
        "            _, pred = scores.max(dim=1)                             # We apply the .max() method to the scores tensor along 1 dimension (mini_batch, classes)\n",
        "                                                                    # along dim 1 allows to get the maximum score for each row (each mini_batch)\n",
        "                                                                    # max() returns the value and its position (similar to torch.argmax), we save just the index (class)\n",
        "            num_correct += (pred == yi).sum()                       # pred shape (mb_size), yi shape (mb_size, 1), Get True and Falses where indices make match\n",
        "            num_total += pred.size(0)                               # Number of predictions, equal to batch_size\n",
        "        return float(cost)/num_total, float(num_correct)/num_total  # At the end of all the batches, the overall accuracy for the epoch is computed"
      ]
    },
    {
      "cell_type": "markdown",
      "id": "01ff750d",
      "metadata": {
        "id": "01ff750d",
        "pycharm": {
          "name": "#%% md\n"
        }
      },
      "source": [
        "#### Train Funtion (Adapted For LSTM)"
      ]
    },
    {
      "cell_type": "code",
      "execution_count": null,
      "id": "0d3f0d0b",
      "metadata": {
        "id": "0d3f0d0b",
        "pycharm": {
          "name": "#%%\n"
        }
      },
      "outputs": [],
      "source": [
        "def train(model, optimiser, epochs=100):\n",
        "    \"\"\"\n",
        "    Train a PyTorch model.\n",
        "\n",
        "    Parameters:\n",
        "    - model: the neural network model\n",
        "    - optimizer: optimizer for training\n",
        "    - epochs: number of epochs to train for\n",
        "\n",
        "    Returns:\n",
        "    - Print a statement showing each epoch's average train and val cost and accuracy\n",
        "    - train_acc_list: list of accuracy values in training for each epoch\n",
        "    - train_cost_list: list of cost values in training for each epoch\n",
        "    - val_acc_list: list of accuracy values in validation for each epoch\n",
        "    - val_cost_list: list of cost values in validation for each epoch\n",
        "    \"\"\"\n",
        "    print(f'lr: {optimiser.param_groups[0][\"lr\"]:.6f}')         # Print the learning rate that the optimiser uses\n",
        "    model = model.to(device=device)                             # Before anything we make sure we are loading to CUDA if available\n",
        "    train_acc_list = []; val_acc_list = []                      # We define two empty lists to store accuracy values\n",
        "    train_cost_list = []; val_cost_list = []                    # We define two empty lists to store cost values\n",
        "    for epoch in range(epochs):                                 # A loop is made for epochs number of iterations\n",
        "        train_correct_num  = 0.\n",
        "        train_total = 0.\n",
        "        train_cost = 0.                                         # Initialize the training cost as floating 0 at each EPOCH\n",
        "        val_cost = 0.                                           # Initialize the validation cost as floating 0 at each EPOCH\n",
        "        train_cost_acum = 0\n",
        "        for  xi, yi in train_loader:                            # The train_loader is called within a loop, getting the X,y pairs\n",
        "            model.train()                                       # Model is set to train, since gradient computation is needed\n",
        "            xi = xi.to(device=device, dtype=torch.int32)        # We make sure the dtype in the Xs are of type tensor.float32\n",
        "            yi = yi.to(device=device, dtype=torch.long)         # We make sure the dtype in the ys are of type tensor.long\n",
        "            lengths = []                                            # Empty list to fill with the lengths of the xis\n",
        "            for temp in xi:                                         # Iterate through every element in xi\n",
        "                lengths.append(len(temp))                           # Append it to the list\n",
        "            lengths = torch.tensor(lengths, dtype=torch.int32)      # convert to tensor with dtype int32\n",
        "            y_hat = model(xi, lengths)                              # We generate the outputs scores for our model batch Xs\n",
        "\n",
        "            # funcion cost\n",
        "            cost = F.cross_entropy(input= y_hat, target=yi.squeeze())  # Cost function is defined as CXEntropy, where scores and targets are given\n",
        "            optimiser.zero_grad()                                      # We set the previous gradients to 0 to avoid gradient accumulation during training\n",
        "            cost.backward()                                            # We execute the running pass, calculating the gradients of the L-function w/respect parameters\n",
        "            optimiser.step()                                           # We update parameters following a given optimizer\n",
        "\n",
        "            # We calculate train accuracy and cost here, instead of the accuracy() function, to get a better training time\n",
        "            train_correct_num += (torch.argmax(y_hat, dim=1) == yi.squeeze()).sum() # For each BATCH_SIZE samples we get the number of correct predictions, accumulating\n",
        "            train_total += y_hat.size(0)                                            # For each BATCH_SIZE samples we get the number of total predictions, accumulating\n",
        "            train_cost_acum += cost.item()                                          # From the object returning from CXEntropy the total cost is accumulated\n",
        "\n",
        "        train_acc = float(train_correct_num)/train_total               # Get Epoch's Average Accuracy\n",
        "        train_cost = train_cost_acum/train_total                       # Get Epoch's Average Training Cost\n",
        "\n",
        "        val_cost, val_acc = accuracy(model, val_loader)         # accuracy function is called (setting model to eval), getting validation cost and accuracy\n",
        "                                                                # since accuracy receives a data loader and iterates over it, it will get an \"Epoch's val average\"\n",
        "\n",
        "        train_acc_list.append(train_acc); val_acc_list.append(val_acc)          # Store accuracy values in their lists\n",
        "        train_cost_list.append(train_cost); val_cost_list.append(val_cost)      # Store costs values in their lists\n",
        "\n",
        "        print(f'Epoch:{epoch+1}, train cost: {train_cost:.6f}, val cost: {val_cost:.6f},'\n",
        "              f' train acc: {train_acc:.4f}, val acc: {val_acc:4f}')\n",
        "    return train_acc_list, train_cost_list, val_acc_list, val_cost_list"
      ]
    },
    {
      "cell_type": "markdown",
      "id": "c6615be1",
      "metadata": {
        "id": "c6615be1",
        "pycharm": {
          "name": "#%% md\n"
        }
      },
      "source": [
        "We define the number of epochs and learning rate that we will use in our model, the instance of the class RNN_Model_2, and we define our optimiser to be Adam:"
      ]
    },
    {
      "cell_type": "code",
      "execution_count": null,
      "id": "87775b29",
      "metadata": {
        "id": "87775b29",
        "pycharm": {
          "name": "#%%\n"
        }
      },
      "outputs": [],
      "source": [
        "epochs = 10\n",
        "lr = 0.001                       #4e-3 for 50 embeding dim\n",
        "loss_fn = nn.CrossEntropyLoss()  #define loss function\n",
        "lstm_model = RNN_Model_2(EMBEDDING_SIZE, NEURONS, NEURONS2, LAYERS, NUM_CLASSES)  # instantiate model\n",
        "optimiser = torch.optim.Adam(lstm_model.parameters(), lr=lr)   #define optimizer"
      ]
    },
    {
      "cell_type": "markdown",
      "id": "59cdd5f5",
      "metadata": {
        "id": "59cdd5f5",
        "pycharm": {
          "name": "#%% md\n"
        }
      },
      "source": [
        "Let's observe the model:"
      ]
    },
    {
      "cell_type": "markdown",
      "id": "68707fbb",
      "metadata": {
        "id": "68707fbb",
        "pycharm": {
          "name": "#%% md\n"
        }
      },
      "source": [
        "We use the useful time library to get the amount of time needed for our training for the number of epochs defined. We also assing the results of the training process to the train_acc, train_cost, val_acc and val_cost variables"
      ]
    },
    {
      "cell_type": "code",
      "execution_count": null,
      "id": "aec12a1b",
      "metadata": {
        "id": "aec12a1b",
        "outputId": "d15b2b99-79b9-4e59-d672-9f3a5b153fef",
        "pycharm": {
          "name": "#%%\n"
        },
        "scrolled": false
      },
      "outputs": [
        {
          "name": "stdout",
          "output_type": "stream",
          "text": [
            "lr: 0.001000\n",
            "Epoch:1, train cost: 0.041283, val cost: 0.042908, train acc: 0.3394, val acc: 0.344750\n",
            "Epoch:2, train cost: 0.036677, val cost: 0.035741, train acc: 0.4488, val acc: 0.465167\n",
            "Epoch:3, train cost: 0.035764, val cost: 0.034976, train acc: 0.4608, val acc: 0.479417\n",
            "Epoch:4, train cost: 0.032144, val cost: 0.029491, train acc: 0.5826, val acc: 0.672333\n",
            "Epoch:5, train cost: 0.027951, val cost: 0.027054, train acc: 0.7899, val acc: 0.868833\n",
            "Epoch:6, train cost: 0.026309, val cost: 0.026570, train acc: 0.8934, val acc: 0.883917\n",
            "Epoch:7, train cost: 0.025787, val cost: 0.026483, train acc: 0.9130, val acc: 0.887750\n",
            "Epoch:8, train cost: 0.025472, val cost: 0.026221, train acc: 0.9239, val acc: 0.896167\n",
            "Epoch:9, train cost: 0.025253, val cost: 0.026262, train acc: 0.9322, val acc: 0.896667\n",
            "Epoch:10, train cost: 0.025094, val cost: 0.026198, train acc: 0.9377, val acc: 0.900083\n",
            "Total training time: 4.7870 mins\n"
          ]
        }
      ],
      "source": [
        "start = time.time()    # We store the time to calculate the total training time of the model\n",
        "\n",
        "train_acc, train_cost, val_acc, val_cost = train(lstm_model, optimiser=optimiser, epochs=epochs)\n",
        "\n",
        "end = time.time()     # Now, we store the time when it finishes training\n",
        "print(f'Total training time: {(end - start)/60:.4f} mins') # And we print it"
      ]
    },
    {
      "cell_type": "markdown",
      "id": "1e5cc82c",
      "metadata": {
        "id": "1e5cc82c",
        "pycharm": {
          "name": "#%% md\n"
        }
      },
      "source": [
        "We test the overall accurary in our test data using our trained model"
      ]
    },
    {
      "cell_type": "code",
      "execution_count": null,
      "id": "7a3ef175",
      "metadata": {
        "id": "7a3ef175",
        "outputId": "b97ed0bf-8b62-4f08-f4d0-a10231ecc024",
        "pycharm": {
          "name": "#%%\n"
        }
      },
      "outputs": [
        {
          "name": "stdout",
          "output_type": "stream",
          "text": [
            "0.90\n"
          ]
        }
      ],
      "source": [
        "print(f'{accuracy(lstm_model, test_loader)[1]:.2f}')"
      ]
    },
    {
      "cell_type": "markdown",
      "id": "2ad48891",
      "metadata": {
        "id": "2ad48891",
        "pycharm": {
          "name": "#%% md\n"
        }
      },
      "source": [
        "We plot the training and validation accuracy"
      ]
    },
    {
      "cell_type": "code",
      "execution_count": null,
      "id": "201bb322",
      "metadata": {
        "id": "201bb322",
        "outputId": "c5daff40-2099-4acc-9fe8-ee13960439aa",
        "pycharm": {
          "name": "#%%\n"
        }
      },
      "outputs": [
        {
          "data": {
            "image/png": "[encoded data removed]",
            "text/plain": [
              "<Figure size 700x400 with 1 Axes>"
            ]
          },
          "metadata": {},
          "output_type": "display_data"
        }
      ],
      "source": [
        "plot_train_val(train_acc, val_acc, True)"
      ]
    },
    {
      "cell_type": "markdown",
      "id": "a8420882",
      "metadata": {
        "id": "a8420882",
        "pycharm": {
          "name": "#%% md\n"
        }
      },
      "source": [
        "We plot the train and validation cost"
      ]
    },
    {
      "cell_type": "code",
      "execution_count": null,
      "id": "663fe5bb",
      "metadata": {
        "id": "663fe5bb",
        "outputId": "a835a001-c7a7-47d6-ce49-9060a9f1806f",
        "pycharm": {
          "name": "#%%\n"
        }
      },
      "outputs": [
        {
          "data": {
            "image/png": "[encoded data removed]",
            "text/plain": [
              "<Figure size 700x400 with 1 Axes>"
            ]
          },
          "metadata": {},
          "output_type": "display_data"
        }
      ],
      "source": [
        "plot_train_val(train_cost, val_cost, False)"
      ]
    },
    {
      "cell_type": "markdown",
      "id": "46e7e060",
      "metadata": {
        "id": "46e7e060",
        "pycharm": {
          "name": "#%% md\n"
        }
      },
      "source": [
        "From the graphs we can see that the model would start to overfit for longer epochs; however up to 10 epochs we do not see a very strong impact of overfitting"
      ]
    },
    {
      "cell_type": "markdown",
      "id": "0b52aaaa",
      "metadata": {
        "id": "0b52aaaa",
        "pycharm": {
          "name": "#%% md\n"
        }
      },
      "source": [
        "### Text Sampling"
      ]
    },
    {
      "cell_type": "markdown",
      "id": "70c66e82",
      "metadata": {
        "id": "70c66e82",
        "pycharm": {
          "name": "#%% md\n"
        }
      },
      "source": [
        "We include the following function in which we prepare our model to be set in evaluation mode and receive the data from the loader. In this case, we create two general lists y_hats and yis which are intended to hold all the y_hat (predictions) and all the yi (real labels). We create a loop to unpack the iterator and then we add all the elements of y_hat and yi from that batch with the extend method to avoid having the batch dimension in the y_hats and yis. This will help us with further functions."
      ]
    },
    {
      "cell_type": "code",
      "execution_count": null,
      "id": "ed30693d",
      "metadata": {
        "id": "ed30693d",
        "pycharm": {
          "name": "#%%\n"
        }
      },
      "outputs": [],
      "source": [
        "def sample_text(model, loader, model_type):\n",
        "    \"\"\"\n",
        "    Unpack values for predictions and original labels in a certain loader\n",
        "    using a certain trained model.\n",
        "\n",
        "    Parameters:\n",
        "    - model: a model expecting as inputs a tensor of type int32\n",
        "    - loader: a dataloader able to produce mini_batches\n",
        "\n",
        "    Returns:\n",
        "    - y_hats: a list with all predictions from all the samples in the loader\n",
        "    - yis a list with all real labels from all the samples in the loader\n",
        "    \"\"\"\n",
        "    y_hats = []\n",
        "    yis = []\n",
        "\n",
        "    model.eval()                                             # We set the model to evaluate to avoid gradient computarions\n",
        "    model = model.to(device=device)                          # We make sure we load the model in GPU if available\n",
        "    with torch.no_grad():                                    # We desable the gradient calculation process since in this point we are not traning the model\n",
        "        for xi,yi in loader:                                 # We get in two variables all the MINIBATCH_SIZE x and y values\n",
        "            xi = xi.to(device=device, dtype = torch.int32)   # We make sure the dtype in the Xs are of type tensor.int 32 (since emb. Layer needs int data)\n",
        "            yi = yi.to(device=device, dtype = torch.long)    # We make sure the dtype in the ys are of type tensor.long\n",
        "            lengths = []                                            # Empty list to fill with the lengths of the xis\n",
        "            for temp in xi:                                         # Iterate through every element in xi\n",
        "                lengths.append(len(temp))                           # Append it to the list\n",
        "            lengths = torch.tensor(lengths, dtype=torch.int32)      # convert to tensor with dtype int32\n",
        "            if model_type == 'lstm':             # We get the samples in the model to get the results\n",
        "                y_hat = model(xi, lengths)       # if it is lstm, then send the lengths\n",
        "            else:\n",
        "                y_hat = model(xi)                # if not, just the samples\n",
        "            _, pred = y_hat.max(dim=1)           # We get the index with the maximum score\n",
        "            y_hats.extend(pred)                  # we extend the predictions of the current batch in the y_hats list\n",
        "            yis.extend(yi)                       # we extend the predictions of the current batch in the yis list, this allow to have all samples in loader\n",
        "                                                 # in the same dimension.\n",
        "\n",
        "    return y_hats, yis"
      ]
    },
    {
      "cell_type": "markdown",
      "id": "daefdc56",
      "metadata": {
        "id": "daefdc56",
        "pycharm": {
          "name": "#%% md\n"
        }
      },
      "source": [
        "We will use our previously defined function to get the predictions and results Then we will make a loop to get 20 random positions from both lists, compare the values and see how the model works for this examples"
      ]
    },
    {
      "cell_type": "markdown",
      "id": "eb9dbd51",
      "metadata": {
        "id": "eb9dbd51"
      },
      "source": [
        "#### Using RNN Model"
      ]
    },
    {
      "cell_type": "code",
      "execution_count": null,
      "id": "9aec21d4",
      "metadata": {
        "id": "9aec21d4",
        "outputId": "897ed695-6da5-4497-c9b5-26248a91bfa7",
        "pycharm": {
          "name": "#%%\n"
        }
      },
      "outputs": [
        {
          "name": "stdout",
          "output_type": "stream",
          "text": [
            "sample 7570\t has prediction value of 2 and a real label of 2 \t True\n",
            "sample 6993\t has prediction value of 1 and a real label of 1 \t True\n",
            "sample 6221\t has prediction value of 1 and a real label of 1 \t True\n",
            "sample 1107\t has prediction value of 2 and a real label of 2 \t True\n",
            "sample 1137\t has prediction value of 2 and a real label of 2 \t True\n",
            "sample 5040\t has prediction value of 1 and a real label of 1 \t True\n",
            "sample 327\t has prediction value of 1 and a real label of 1 \t True\n",
            "sample 4633\t has prediction value of 3 and a real label of 3 \t True\n",
            "sample 1063\t has prediction value of 3 and a real label of 3 \t True\n",
            "sample 5646\t has prediction value of 0 and a real label of 0 \t True\n",
            "sample 6407\t has prediction value of 3 and a real label of 3 \t True\n",
            "sample 2311\t has prediction value of 1 and a real label of 1 \t True\n",
            "sample 2515\t has prediction value of 3 and a real label of 3 \t True\n",
            "sample 3390\t has prediction value of 0 and a real label of 0 \t True\n",
            "sample 6562\t has prediction value of 2 and a real label of 2 \t True\n",
            "sample 4349\t has prediction value of 2 and a real label of 2 \t True\n",
            "sample 850\t has prediction value of 1 and a real label of 1 \t True\n",
            "sample 2199\t has prediction value of 2 and a real label of 0 \t False\n",
            "sample 4431\t has prediction value of 1 and a real label of 1 \t True\n",
            "sample 5944\t has prediction value of 3 and a real label of 2 \t False\n",
            "Accuracy value is 90.00 %\n"
          ]
        }
      ],
      "source": [
        "y_hats, yis = sample_text(rnn_model, test_loader, 'rnn')                            # get predictions and real values for test_loader\n",
        "\n",
        "correct = 0\n",
        "for i in np.random.choice(len(yis), 20, replace=False):                      # iterate for 20 random indexes\n",
        "    pred_eval = False\n",
        "    if y_hats[i] == yis[i]:                                                  # if the prediction is correct...\n",
        "        pred_eval = True                                                     # save it as true\n",
        "        correct += 1                                                         # add 1 to the counter\n",
        "    print(f\"sample {i}\\t has prediction value of {y_hats[i]} and a real label of {yis[i]} \\t {pred_eval}\")\n",
        "print(f\"Accuracy value is {correct/20*100:.2f} %\")"
      ]
    },
    {
      "cell_type": "markdown",
      "id": "12d088aa",
      "metadata": {
        "id": "12d088aa"
      },
      "source": [
        "#### Using LSTM Model"
      ]
    },
    {
      "cell_type": "code",
      "execution_count": null,
      "id": "47ff0c48",
      "metadata": {
        "id": "47ff0c48",
        "outputId": "c742350e-275c-4184-e160-65161c1eafea"
      },
      "outputs": [
        {
          "name": "stdout",
          "output_type": "stream",
          "text": [
            "sample 6782\t has prediction value of 0 and a real label of 0 \t True\n",
            "sample 1418\t has prediction value of 3 and a real label of 3 \t True\n",
            "sample 6871\t has prediction value of 0 and a real label of 0 \t True\n",
            "sample 6610\t has prediction value of 1 and a real label of 1 \t True\n",
            "sample 6786\t has prediction value of 1 and a real label of 1 \t True\n",
            "sample 2910\t has prediction value of 3 and a real label of 3 \t True\n",
            "sample 7199\t has prediction value of 3 and a real label of 3 \t True\n",
            "sample 258\t has prediction value of 3 and a real label of 3 \t True\n",
            "sample 5485\t has prediction value of 0 and a real label of 0 \t True\n",
            "sample 2906\t has prediction value of 0 and a real label of 0 \t True\n",
            "sample 659\t has prediction value of 2 and a real label of 2 \t True\n",
            "sample 554\t has prediction value of 1 and a real label of 1 \t True\n",
            "sample 5508\t has prediction value of 2 and a real label of 2 \t True\n",
            "sample 3736\t has prediction value of 1 and a real label of 1 \t True\n",
            "sample 2653\t has prediction value of 1 and a real label of 1 \t True\n",
            "sample 17\t has prediction value of 3 and a real label of 3 \t True\n",
            "sample 6728\t has prediction value of 1 and a real label of 1 \t True\n",
            "sample 355\t has prediction value of 2 and a real label of 2 \t True\n",
            "sample 5845\t has prediction value of 0 and a real label of 0 \t True\n",
            "sample 1614\t has prediction value of 3 and a real label of 3 \t True\n",
            "Accuracy value is 100.00 %\n"
          ]
        }
      ],
      "source": [
        "y_hats, yis = sample_text(lstm_model, test_loader, 'lstm')                            # get predictions and real values for test_loader\n",
        "\n",
        "correct = 0\n",
        "for i in np.random.choice(len(yis), 20, replace=False):                      # iterate for 20 random indexes\n",
        "    pred_eval = False\n",
        "    if y_hats[i] == yis[i]:                                                  # if the prediction is correct...\n",
        "        pred_eval = True                                                     # save it as true\n",
        "        correct += 1                                                         # add 1 to the counter\n",
        "    print(f\"sample {i}\\t has prediction value of {y_hats[i]} and a real label of {yis[i]} \\t {pred_eval}\")\n",
        "print(f\"Accuracy value is {correct/20*100:.2f} %\")"
      ]
    },
    {
      "cell_type": "markdown",
      "id": "a9faafce",
      "metadata": {
        "id": "a9faafce",
        "pycharm": {
          "name": "#%% md\n"
        }
      },
      "source": [
        "We will now create a function where any random text can be given and we will see the classification of the model"
      ]
    },
    {
      "cell_type": "code",
      "execution_count": null,
      "id": "4bcd9caa",
      "metadata": {
        "id": "4bcd9caa",
        "pycharm": {
          "name": "#%%\n"
        }
      },
      "outputs": [],
      "source": [
        "def free_text(model, text, model_type):\n",
        "    \"\"\"\n",
        "    Runs a string input into the model, previously preparing the input\n",
        "    for be given into the model\n",
        "\n",
        "    Parameters:\n",
        "    - model: a model expecting as inputs a tensor of type int32\n",
        "    - text: random string given by the programmer\n",
        "\n",
        "    Returns:\n",
        "    - Print statement giving the category the model predicts based on training\n",
        "    \"\"\"\n",
        "\n",
        "    tkns = tokeniser(f\"{text}\")                              # We tokenize our input based on tokeniser defined\n",
        "    x = vocab(tkns)                                          # We asing an integer for each token in tkns\n",
        "    #print(x)\n",
        "    x = [x + ([0]*(max_tokens - len(x))) if len(x) < max_tokens else x[:max_tokens]]    # The list of tokens x is padded with [0]s until 50 positions or\n",
        "                                                                                        # truncated to 50 tokens to get the data into the neural network\n",
        "    lengths = []                                            # Empty list to fill with the lengths of the xs\n",
        "    for temp in x:                                          # Iterate through every element in x\n",
        "        lengths.append(len(temp))                           # Append it to the list\n",
        "    lengths = torch.tensor(lengths, dtype=torch.int32)      # convert to tensor with dtype int32\n",
        "\n",
        "    # Convert list to tensor\n",
        "    my_tensor = torch.tensor(x, dtype=torch.int32)           # We convert the list to a PyTorch Tensor\n",
        "    my_tensor = my_tensor.to(device=device)                  # We make sure it is in CUDA if CUDA avaialble the list to a PyTorch Tensor\n",
        "\n",
        "\n",
        "\n",
        "    model.eval()                                             # We set the model to evaluate to avoid gradient computarions\n",
        "    model = model.to(device=device)                          # We make sure we load the model in GPU if available\n",
        "    with torch.no_grad():                                    # We desable the gradient calculation process since in this point we are not traning the model\n",
        "        if model_type == 'lstm':\n",
        "            y_hat = model(my_tensor, lengths)\n",
        "        else:\n",
        "            y_hat = model(my_tensor)\n",
        "        _, pred = y_hat.max(dim=1)           # We get the index with the maximum score\n",
        "\n",
        "        print(\"Category\", [\"World\", \"Sports\", \"Business\", \"Sci/Tech\"][pred[0].item()])"
      ]
    },
    {
      "cell_type": "markdown",
      "id": "19f8dbea",
      "metadata": {
        "id": "19f8dbea",
        "pycharm": {
          "name": "#%% md\n"
        }
      },
      "source": [
        "Running an example where we can see the Topic is clearly of Science Technology"
      ]
    },
    {
      "cell_type": "code",
      "execution_count": null,
      "id": "717fe30d",
      "metadata": {
        "id": "717fe30d",
        "outputId": "775fdc7d-32eb-492f-da4d-93a40eaa2b0a",
        "pycharm": {
          "name": "#%%\n"
        }
      },
      "outputs": [
        {
          "name": "stdout",
          "output_type": "stream",
          "text": [
            "Result using RNN Model\n",
            "Category Sci/Tech\n",
            "Result using LSTM Model\n",
            "Category Sci/Tech\n"
          ]
        }
      ],
      "source": [
        "print(\"Result using RNN Model\")\n",
        "free_text(rnn_model, \"Neural Networks are great for Narutal Language Processing Tasks\\n\", 'rnn')\n",
        "\n",
        "print(\"Result using LSTM Model\")\n",
        "free_text(lstm_model, \"Neural Networks are great for Narutal Language Processing Tasks\\n\", 'lstm')"
      ]
    },
    {
      "cell_type": "markdown",
      "id": "ed78bcfb",
      "metadata": {
        "id": "ed78bcfb",
        "pycharm": {
          "name": "#%% md\n"
        }
      },
      "source": [
        "Running an example where we can see the Topic is clearly of Sports"
      ]
    },
    {
      "cell_type": "code",
      "execution_count": null,
      "id": "36ca7b92",
      "metadata": {
        "id": "36ca7b92",
        "outputId": "5dffaeac-288b-4995-d467-19bf285aeef4",
        "pycharm": {
          "name": "#%%\n"
        }
      },
      "outputs": [
        {
          "name": "stdout",
          "output_type": "stream",
          "text": [
            "Result using RNN Model\n",
            "Category Sci/Tech\n",
            "Result using LSTM Model\n",
            "Category Sci/Tech\n"
          ]
        }
      ],
      "source": [
        "print(\"Result using RNN Model\")\n",
        "free_text(rnn_model, \"Neural Networks are great for Narutal Language Processing Tasks\\n\", 'rnn')\n",
        "\n",
        "print(\"Result using LSTM Model\")\n",
        "free_text(lstm_model, \"Neural Networks are great for Narutal Language Processing Tasks\\n\", 'lstm')"
      ]
    },
    {
      "cell_type": "markdown",
      "id": "e203f8c9",
      "metadata": {
        "id": "e203f8c9",
        "pycharm": {
          "name": "#%% md\n"
        }
      },
      "source": [
        "### Confusion Matrix"
      ]
    },
    {
      "cell_type": "markdown",
      "id": "02b35cf1",
      "metadata": {
        "id": "02b35cf1",
        "pycharm": {
          "name": "#%% md\n"
        }
      },
      "source": [
        "To observe the behavior of the predictions of the 4 classes, we can generate a confusion matrix. We'll use the confusion matrix module from sklearn."
      ]
    },
    {
      "cell_type": "markdown",
      "id": "e779eb5d",
      "metadata": {
        "id": "e779eb5d"
      },
      "source": [
        "#### RNN Model"
      ]
    },
    {
      "cell_type": "code",
      "execution_count": null,
      "id": "fc761b5b",
      "metadata": {
        "id": "fc761b5b",
        "outputId": "b129b39f-4512-4325-c724-31f0a86cceb0",
        "pycharm": {
          "name": "#%%\n"
        }
      },
      "outputs": [
        {
          "data": {
            "text/plain": [
              "<Axes: >"
            ]
          },
          "execution_count": 78,
          "metadata": {},
          "output_type": "execute_result"
        },
        {
          "data": {
            "image/png": "[encoded data removed]",
            "text/plain": [
              "<Figure size 500x500 with 1 Axes>"
            ]
          },
          "metadata": {},
          "output_type": "display_data"
        }
      ],
      "source": [
        "y_pred = []; y_true = []                                          # lists to store predicted and real classes\n",
        "\n",
        "for inputs, classes in test_loader:                              # iterate over test data\n",
        "        inputs = inputs.to(device=device, dtype=torch.int32)     # We make sure the dtype in the Xs are of type tensor.float32\n",
        "        classes = classes.to(device=device, dtype=torch.long)    # We make sure the dtype in the ys are of type tensor.long\n",
        "        lengths = []                                            # Empty list to fill with the lengths of the xs\n",
        "        for temp in inputs:                                          # Iterate through every element in x\n",
        "            lengths.append(len(temp))                           # Append it to the list\n",
        "        lengths = torch.tensor(lengths, dtype=torch.int32)      # convert to tensor with dtype int32\n",
        "        output = rnn_model(inputs)                               # We feed Network with the batches\n",
        "\n",
        "        output = (torch.max(torch.exp(output), 1)[1]).data.cpu().numpy()   # We obtain the predictions\n",
        "        y_pred.extend(output)                                              # We Save the predictions in their list\n",
        "\n",
        "        classes = classes.data.cpu().numpy()                     # We convert the real classes to numpy array\n",
        "        y_true.extend(classes)                                   # We save them in their list\n",
        "\n",
        "# Build confusion matrix\n",
        "cf_matrix = confusion_matrix(y_true, y_pred)                     # We apply the function from sklearn\n",
        "df_cm = pd.DataFrame(cf_matrix / np.sum(cf_matrix, axis=1), index = [i for i in labels],   # We store it as a dataframe\n",
        "                     columns = [i for i in labels])                                        # in %s and with indexes and columns\n",
        "                                                                                           # with their classes\n",
        "plt.figure(figsize = (5,5))                                     # Size of the plot\n",
        "sn.heatmap(df_cm, annot=True,cbar=False,cmap=\"Greens\")          # Heatmap to plot the confusion matrix"
      ]
    },
    {
      "cell_type": "markdown",
      "id": "a53a540a",
      "metadata": {
        "id": "a53a540a",
        "pycharm": {
          "name": "#%% md\n"
        }
      },
      "source": [
        "We see the stronger colors run through the diagonal meaning the model is quite good at classiying the news in the right category"
      ]
    },
    {
      "cell_type": "markdown",
      "id": "587d0c25",
      "metadata": {
        "id": "587d0c25"
      },
      "source": [
        "#### LSTM Model"
      ]
    },
    {
      "cell_type": "code",
      "execution_count": null,
      "id": "a77a6094",
      "metadata": {
        "id": "a77a6094",
        "outputId": "9e84a256-6d94-4c76-a244-4243a402b3f1"
      },
      "outputs": [
        {
          "data": {
            "text/plain": [
              "<Axes: >"
            ]
          },
          "execution_count": 80,
          "metadata": {},
          "output_type": "execute_result"
        },
        {
          "data": {
            "image/png": "[encoded data removed]",
            "text/plain": [
              "<Figure size 500x500 with 1 Axes>"
            ]
          },
          "metadata": {},
          "output_type": "display_data"
        }
      ],
      "source": [
        "y_pred = []; y_true = []                                          # lists to store predicted and real classes\n",
        "\n",
        "for inputs, classes in test_loader:                              # iterate over test data\n",
        "        inputs = inputs.to(device=device, dtype=torch.int32)     # We make sure the dtype in the Xs are of type tensor.float32\n",
        "        classes = classes.to(device=device, dtype=torch.long)    # We make sure the dtype in the ys are of type tensor.long\n",
        "        lengths = []                                            # Empty list to fill with the lengths of the xs\n",
        "        for temp in inputs:                                          # Iterate through every element in x\n",
        "            lengths.append(len(temp))                           # Append it to the list\n",
        "        lengths = torch.tensor(lengths, dtype=torch.int32)      # convert to tensor with dtype int32\n",
        "        output = lstm_model(inputs,lengths)                               # We feed Network with the batches\n",
        "\n",
        "        output = (torch.max(torch.exp(output), 1)[1]).data.cpu().numpy()   # We obtain the predictions\n",
        "        y_pred.extend(output)                                              # We Save the predictions in their list\n",
        "\n",
        "        classes = classes.data.cpu().numpy()                     # We convert the real classes to numpy array\n",
        "        y_true.extend(classes)                                   # We save them in their list\n",
        "\n",
        "# Build confusion matrix\n",
        "cf_matrix = confusion_matrix(y_true, y_pred)                     # We apply the function from sklearn\n",
        "df_cm = pd.DataFrame(cf_matrix / np.sum(cf_matrix, axis=1), index = [i for i in labels],   # We store it as a dataframe\n",
        "                     columns = [i for i in labels])                                        # in %s and with indexes and columns\n",
        "                                                                                           # with their classes\n",
        "plt.figure(figsize = (5,5))                                     # Size of the plot\n",
        "sn.heatmap(df_cm, annot=True,cbar=False,cmap=\"Greens\")          # Heatmap to plot the confusion matrix"
      ]
    },
    {
      "cell_type": "markdown",
      "id": "85dfa060",
      "metadata": {
        "id": "85dfa060"
      },
      "source": [
        "We see the stronger colors run through the diagonal meaning the model is quite good at classiying the news in the right category, even better than the normal RNN model"
      ]
    },
    {
      "cell_type": "markdown",
      "id": "e23b1b90",
      "metadata": {
        "id": "e23b1b90",
        "pycharm": {
          "name": "#%% md\n"
        }
      },
      "source": [
        "### Conclusions"
      ]
    },
    {
      "cell_type": "markdown",
      "id": "5f766841",
      "metadata": {
        "id": "5f766841",
        "pycharm": {
          "name": "#%% md\n"
        }
      },
      "source": [
        "As we practiced throughout the activity, we saw how a recurrent neural network uses the embeddings from past tokens to retain the context of the whole sentence, this is powerful since we not only are allowed to classify an independent input but a sequence of them. In the exploration work we run the code trying different architectures of RNNs and the one presented here was one of the most promising ones. It is important to emphasize that at the beginning the network performance was about 40% accuracy after 50 epochs, then we changed many hyperparameters and reconfigured the network. At one moment, we saw a lot of variation through the training epochs in the validation accuracy, so we found that our batch size wasn't ideal. We found out that the lower the batch size is, the longer it takes to train the network. However, we were able to obtain an accuracy value of 90% when using a batch size of 32. We also noticed that the learning rate had a big impact on the training of the model. When working with a simple RNN network, with only the embedding, RNN, and linear layers, we found that values between 1e-4 and 4e-4 were good values, at 4e-4 the network began to see the effects of overfitting, so we stayed at a learning rate of 2e-4 and limited epochs. We ended with an accuracy of about 88% with test data which was wonderful for us since the model was prevented from overfitting, and we can be certain that the network will perform relatively well with new examples. However, when changing our model to the one above, the best learning rate we got was for 1e-4. It was able to obtain 90% of accuracy in only 10 epochs.\n",
        "In this scenario the difference in performance between our RNN model and our LSTM model was not very big, however it is important to emphasize that the best results were given by the LSTM model.] Furthermore, we defined several functions to explore the performance of the network, and we can see two examples almost at the end where the network performed well. In the end, the confusion matrix also helps us see the overall good performance of the network."
      ]
    },
    {
      "cell_type": "markdown",
      "source": [
        "### References\n",
        "\n"
      ],
      "metadata": {
        "id": "ntOCWPRZq1nr"
      },
      "id": "ntOCWPRZq1nr"
    },
    {
      "cell_type": "markdown",
      "source": [
        "Raschka, S., Liu, Y., Mirjalili, V., Dzhulgakov, D. (2022). Machine Learning with PyTorch and Scikit-Learn: Develop Machine Learning and Deep Learning Models with Python. United Kingdom: Packt Publishing.\n",
        "\n",
        "Pepe Cantoral, Ph-D. (2023, October 23). Modelos secuenciales y REDES NEURONALES RECURRENTES YouTube.\n",
        "\n",
        "Pepe Cantoral, Ph-D. (2023, October 26). ¿Qué son Word EMBEDDINGS? ¡Explorando Embeddings con GloVe y Python!\n",
        "\n",
        "Pepe Cantoral, Ph-D. (2023, October 30). ¡LSTM: Todo lo que necesitas saber!"
      ],
      "metadata": {
        "id": "T2UAQWO5rUS5"
      },
      "id": "T2UAQWO5rUS5"
    }
  ],
  "metadata": {
    "colab": {
      "provenance": []
    },
    "kernelspec": {
      "display_name": "Python 3 (ipykernel)",
      "language": "python",
      "name": "python3"
    },
    "language_info": {
      "codemirror_mode": {
        "name": "ipython",
        "version": 3
      },
      "file_extension": ".py",
      "mimetype": "text/x-python",
      "name": "python",
      "nbconvert_exporter": "python",
      "pygments_lexer": "ipython3",
      "version": "3.11.5"
    },
    "varInspector": {
      "cols": {
        "lenName": 16,
        "lenType": 16,
        "lenVar": 40
      },
      "kernels_config": {
        "python": {
          "delete_cmd_postfix": "",
          "delete_cmd_prefix": "del ",
          "library": "var_list.py",
          "varRefreshCmd": "print(var_dic_list())"
        },
        "r": {
          "delete_cmd_postfix": ") ",
          "delete_cmd_prefix": "rm(",
          "library": "var_list.r",
          "varRefreshCmd": "cat(var_dic_list()) "
        }
      },
      "types_to_exclude": [
        "module",
        "function",
        "builtin_function_or_method",
        "instance",
        "_Feature"
      ],
      "window_display": false
    }
  },
  "nbformat": 4,
  "nbformat_minor": 5
}